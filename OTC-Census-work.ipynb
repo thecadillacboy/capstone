{
 "cells": [
  {
   "cell_type": "code",
   "execution_count": 11,
   "metadata": {},
   "outputs": [],
   "source": [
    "import pandas as pd\n",
    "import sqlite3 as sql\n",
    "import seaborn as sns\n",
    "import matplotlib.pyplot as plt\n",
    "from pathlib import Path\n",
    "import requests\n",
    "from IPython.display import Image"
   ]
  },
  {
   "cell_type": "code",
   "execution_count": 12,
   "metadata": {},
   "outputs": [],
   "source": [
    "import config\n",
    "census_api_key = '&key=' + config.census_api_key"
   ]
  },
  {
   "cell_type": "code",
   "execution_count": 13,
   "metadata": {},
   "outputs": [],
   "source": [
    "# Available APIs -- https://www.census.gov/data/developers/data-sets.html\n",
    "\n",
    "## Deaths api.census.gov/data/2017/popproj/deaths\n",
    "## Variables api.census.gov/data/2017/popproj/deaths/variables.html\n",
    "\n",
    "# endpoint = 'https://api.census.gov/data/2017/popproj/deaths?' + str(variable) + 'for=us:1'\n",
    "\n"
   ]
  },
  {
   "cell_type": "code",
   "execution_count": 14,
   "metadata": {},
   "outputs": [],
   "source": [
    "# Sample Queries from the website\n",
    "api_census_2020_example = 'http://api.census.gov/data/2020/dec/pl?get=NAME&for=state:*&key='+census_api_key\n",
    "api_deaths_year = 'http://api.census.gov/data/2017/popproj/deaths?get=DEATHS,YEAR&for=us:1'\n",
    "\n",
    "# raw API endpoints\n",
    "# remember to add http://\n",
    "api_census_2020 = 'http://api.census.gov/data/2020/dec/pl?'\n",
    "api_deaths = 'http://api.census.gov/data/2017/popproj/deaths?'\n",
    "\n",
    "# remember to put &key= onto the end of my queries.\n",
    "search = 'get=NAME&for=state:*' + census_api_key\n",
    "query_2020 = api_census_2020 + search"
   ]
  },
  {
   "cell_type": "code",
   "execution_count": 15,
   "metadata": {},
   "outputs": [
    {
     "name": "stdout",
     "output_type": "stream",
     "text": [
      "http://api.census.gov/data/2020/dec/pl?get=NAME&for=state:*&key=f1004d05c6a206e12b19f145e295617b32c21f53\n",
      "<Response [200]>\n",
      "[['NAME', 'state'], ['Alabama', '01'], ['Alaska', '02'], ['Arizona', '04'], ['Arkansas', '05'], ['California', '06'], ['Colorado', '08'], ['Connecticut', '09'], ['Delaware', '10'], ['District of Columbia', '11'], ['Idaho', '16'], ['Florida', '12'], ['Georgia', '13'], ['Hawaii', '15'], ['Illinois', '17'], ['Indiana', '18'], ['Iowa', '19'], ['Kansas', '20'], ['Kentucky', '21'], ['Louisiana', '22'], ['Maine', '23'], ['Maryland', '24'], ['Massachusetts', '25'], ['Michigan', '26'], ['Minnesota', '27'], ['Mississippi', '28'], ['Missouri', '29'], ['Montana', '30'], ['Nebraska', '31'], ['Nevada', '32'], ['New Hampshire', '33'], ['New Jersey', '34'], ['New Mexico', '35'], ['New York', '36'], ['North Carolina', '37'], ['North Dakota', '38'], ['Ohio', '39'], ['Oklahoma', '40'], ['Oregon', '41'], ['Pennsylvania', '42'], ['Rhode Island', '44'], ['South Carolina', '45'], ['South Dakota', '46'], ['Tennessee', '47'], ['Texas', '48'], ['Utah', '49'], ['Vermont', '50'], ['Virginia', '51'], ['Washington', '53'], ['West Virginia', '54'], ['Wisconsin', '55'], ['Wyoming', '56'], ['Puerto Rico', '72']]\n"
     ]
    }
   ],
   "source": [
    "# Test cell \n",
    "endpoint = query_2020\n",
    "response = requests.get(endpoint)\n",
    "res = response.json()\n",
    "print(endpoint)\n",
    "print(response)\n",
    "print(res)"
   ]
  },
  {
   "cell_type": "code",
   "execution_count": 16,
   "metadata": {},
   "outputs": [],
   "source": [
    "# get_data makes a csv of multiple api queries.\n",
    "# It prints the file name, the endpoint, and response to confirm it worked.\n",
    "# This one works and is locked into the deaths api\n",
    "# The dataframe is NOT coming out\n",
    "\n",
    "def get_data(s) :\n",
    "    for t in s :\n",
    "        api = t['api']\n",
    "        variable = t['variable']\n",
    "        filepath = t['name']\n",
    "        endpoint = 'https://api.census.gov/data/2017/popproj/' + str(api) + str(variable) + '&for=us:1'\n",
    "        response = requests.get(endpoint)\n",
    "        print(t['name'], endpoint, response)\n",
    "        res = response.json()\n",
    "        t['name'] = res\n",
    "        t['name'] = pd.DataFrame(t['name'])\n",
    "        # Add code to save as .CSV\n",
    "        t['name'].to_csv(filepath)\n",
    "    return()"
   ]
  },
  {
   "cell_type": "code",
   "execution_count": 17,
   "metadata": {},
   "outputs": [
    {
     "name": "stdout",
     "output_type": "stream",
     "text": [
      "deaths_year https://api.census.gov/data/2017/popproj/deaths?get=DEATHS,YEAR&for=us:1 <Response [200]>\n"
     ]
    },
    {
     "data": {
      "text/plain": [
       "()"
      ]
     },
     "execution_count": 17,
     "metadata": {},
     "output_type": "execute_result"
    }
   ],
   "source": [
    "deaths_year = {'name' : 'deaths_year', 'api' : 'deaths?get=', 'variable' : 'DEATHS,YEAR'}\n",
    "deaths_race = {'name' : 'deaths_race', 'api' : 'deaths?get=', 'variable' : 'DEATHS,RACE_HISP'}\n",
    "deaths_age = {'name' : 'deaths_age', 'api' : 'deaths?get=', 'variable' : 'DEATHS,AGE'}\n",
    "\n",
    "deaths = [deaths_year] # deaths_age]  # deaths_race] # deaths_age]\n",
    "\n",
    "tables = [deaths]\n",
    "\n",
    "get_data(deaths)"
   ]
  },
  {
   "cell_type": "code",
   "execution_count": 18,
   "metadata": {},
   "outputs": [],
   "source": [
    "# get_data makes a csv of multiple api queries.\n",
    "# It prints the file name, the endpoint, and response to confirm it worked.\n",
    "\n",
    "# 'https://api.census.gov/data/2017/popproj/' + str(api) + str(variable) + '&for=us:1'\n",
    "\n",
    "def get_data(query) :\n",
    "    for t in query :\n",
    "        filepath = str(t['name'])\n",
    "        endpoint = str(t['url'])\n",
    "        print(t['name'], endpoint)\n",
    "        response = requests.get(endpoint)\n",
    "        print(t[0], endpoint, response)\n",
    "        res = response.json()\n",
    "        t['name'] = res\n",
    "        t['name'] = pd.DataFrame(t['name'])\n",
    "        # Add code to save as .CSV\n",
    "        t['name'].to_csv(filepath)\n",
    "    return()\n",
    "\n",
    "\n",
    "def get_data(s) :\n",
    "for t in s :\n",
    "    api = t['api']\n",
    "    variable = t['variable']\n",
    "    filepath = t['name']\n",
    "    endpoint = 'https://api.census.gov/data/2017/popproj/' + str(api) + str(variable) + '&for=us:1'\n",
    "    response = requests.get(endpoint)\n",
    "    print(t['name'], endpoint, response)\n",
    "    res = response.json()\n",
    "    t['name'] = res\n",
    "    t['name'] = pd.DataFrame(t['name'])\n",
    "    # Add code to save as .CSV\n",
    "    t['name'].to_csv(filepath)\n",
    "return()"
   ]
  },
  {
   "cell_type": "code",
   "execution_count": 19,
   "metadata": {},
   "outputs": [],
   "source": [
    "# name_state = {'name': 'name_state', \n",
    "#               'url': query_2020 }\n",
    "\n",
    "# get_data(name_state)"
   ]
  }
 ],
 "metadata": {
  "interpreter": {
   "hash": "b3ba2566441a7c06988d0923437866b63cedc61552a5af99d1f4fb67d367b25f"
  },
  "kernelspec": {
   "display_name": "Python 3.9.7 ('base')",
   "language": "python",
   "name": "python3"
  },
  "language_info": {
   "codemirror_mode": {
    "name": "ipython",
    "version": 3
   },
   "file_extension": ".py",
   "mimetype": "text/x-python",
   "name": "python",
   "nbconvert_exporter": "python",
   "pygments_lexer": "ipython3",
   "version": "3.9.7"
  },
  "orig_nbformat": 4
 },
 "nbformat": 4,
 "nbformat_minor": 2
}
