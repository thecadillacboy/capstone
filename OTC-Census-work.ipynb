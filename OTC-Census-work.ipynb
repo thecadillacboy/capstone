{
 "cells": [
  {
   "cell_type": "code",
   "execution_count": 1,
   "metadata": {},
   "outputs": [],
   "source": [
    "import pandas as pd\n",
    "import sqlite3 as sql\n",
    "import seaborn as sns\n",
    "import matplotlib.pyplot as plt\n",
    "from pathlib import Path\n",
    "import requests\n",
    "from IPython.display import Image"
   ]
  },
  {
   "cell_type": "code",
   "execution_count": 2,
   "metadata": {},
   "outputs": [],
   "source": [
    "# get_data makes a csv of multiple api queries.\n",
    "# It prints the file name, the endpoint, and response to confirm it worked.\n",
    "\n",
    "def get_data(query) :\n",
    "    for t in query :\n",
    "        api = t['api']\n",
    "        filepath = str(t['name'])\n",
    "        endpoint = str(api)\n",
    "        response = requests.get(endpoint)\n",
    "        print(t['name'], endpoint, response)\n",
    "        res = response.json()\n",
    "        t['name'] = res\n",
    "        t['name'] = pd.DataFrame(t['name'])\n",
    "        # Add code to save as .CSV\n",
    "        t['name'].to_csv(filepath)\n",
    "    return()"
   ]
  },
  {
   "cell_type": "code",
   "execution_count": 3,
   "metadata": {},
   "outputs": [
    {
     "name": "stdout",
     "output_type": "stream",
     "text": [
      "deaths_year http://api.census.gov/data/2017/popproj/deaths?get=DEATHS,YEAR&for=us:1&key=f1004d05c6a206e12b19f145e295617b32c21f53 <Response [200]>\n",
      "county_2010 http://api.census.gov/data/2010/dec/sf1?get=H006001,H006002,H006003,H006004,H006005,H006006,H006007,H006008&for=COUNTY:*&key=f1004d05c6a206e12b19f145e295617b32c21f53 <Response [200]>\n",
      "race_2020 http://api.census.gov/data/2020/dec/pl?get=P1_001N,P1_002N,P1_003N,P1_004N,P1_005N,P1_006N,P1_007N,P1_008N,P1_009N&for=COUNTY:*&key=f1004d05c6a206e12b19f145e295617b32c21f53 <Response [200]>\n"
     ]
    },
    {
     "data": {
      "text/plain": [
       "()"
      ]
     },
     "execution_count": 3,
     "metadata": {},
     "output_type": "execute_result"
    }
   ],
   "source": [
    "# Available APIs -- https://www.census.gov/data/developers/data-sets.html\n",
    "\n",
    "## Deaths api.census.gov/data/2017/popproj/deaths\n",
    "## Variables api.census.gov/data/2017/popproj/deaths/variables.html\n",
    "\n",
    "# endpoint = 'https://api.census.gov/data/2017/popproj/deaths?' + str(variable) + 'for=us:1'\n",
    "\n",
    "\n",
    "# Sample Queries from the website\n",
    "# api_census_2020_example = 'http://api.census.gov/data/2020/dec/pl?get=NAME&for=state:*&key='+census_api_key\n",
    "# api_deaths_year = 'http://api.census.gov/data/2017/popproj/deaths?get=DEATHS,YEAR&for=us:1'\n",
    "\n",
    "# API Key\n",
    "import config\n",
    "census_api_key = '&key=' + config.census_api_key\n",
    "\n",
    "# API Calls (remember to add http://)\n",
    "api_census_2020 = 'http://api.census.gov/data/2020/dec/pl?'\n",
    "api_deaths = 'http://api.census.gov/data/2017/popproj/deaths?'\n",
    "# https://www.census.gov/data/developers/data-sets/decennial-census.2010.html\n",
    "api_summary_file_2010 = 'http://api.census.gov/data/2010/dec/sf1?'\n",
    "\n",
    "# Endpoints\n",
    "# https://api.census.gov/data/2010/dec/sf1/variables.html\n",
    "county_pop_2010 = api_summary_file_2010 + 'get=H006001,H006002,H006003,H006004,H006005,H006006,H006007,H006008&for=COUNTY:*' + census_api_key\n",
    "# https://api.census.gov/data/2020/dec/pl/variables.html\n",
    "county_pop_2020 = api_census_2020 + 'get=P1_001N,P1_002N,P1_003N,P1_004N,P1_005N,P1_006N,P1_007N,P1_008N,P1_009N&for=COUNTY:*' + census_api_key\n",
    "\n",
    "deaths_api = api_deaths + 'get=DEATHS,YEAR&for=us:1' + census_api_key\n",
    "\n",
    "# Function Sets\n",
    "deaths_year = {'name' : 'deaths_year', 'api' : deaths_api}\n",
    "county_2010 = {'name' : 'county_2010', 'api' : county_pop_2010}\n",
    "county_2020 = {'name' : 'race_2020', 'api' : county_pop_2020}\n",
    "# # Test cell \n",
    "# endpoint = query_2020\n",
    "# response = requests.get(endpoint)\n",
    "# res = response.json()\n",
    "# print(endpoint)\n",
    "# print(response)\n",
    "# print(res)\n",
    "\n",
    "# Add queries from above here.\n",
    "tables = [deaths_year, county_2010, county_2020]\n",
    "# Run Function\n",
    "get_data(tables)"
   ]
  },
  {
   "cell_type": "code",
   "execution_count": null,
   "metadata": {},
   "outputs": [],
   "source": []
  }
 ],
 "metadata": {
  "interpreter": {
   "hash": "b3ba2566441a7c06988d0923437866b63cedc61552a5af99d1f4fb67d367b25f"
  },
  "kernelspec": {
   "display_name": "Python 3.9.7 ('base')",
   "language": "python",
   "name": "python3"
  },
  "language_info": {
   "codemirror_mode": {
    "name": "ipython",
    "version": 3
   },
   "file_extension": ".py",
   "mimetype": "text/x-python",
   "name": "python",
   "nbconvert_exporter": "python",
   "pygments_lexer": "ipython3",
   "version": "3.9.7"
  },
  "orig_nbformat": 4
 },
 "nbformat": 4,
 "nbformat_minor": 2
}
