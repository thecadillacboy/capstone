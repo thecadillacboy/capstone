{
 "cells": [
  {
   "cell_type": "code",
   "execution_count": 1,
   "metadata": {},
   "outputs": [],
   "source": [
    "import pandas as pd\n",
    "import sqlite3 as sql\n",
    "import seaborn as sns\n",
    "import matplotlib.pyplot as plt\n",
    "from pathlib import Path\n",
    "import requests\n",
    "from IPython.display import Image\n",
    "import config\n",
    "\n",
    "census_api_key = '&key=' + config.census_api_key"
   ]
  },
  {
   "cell_type": "code",
   "execution_count": 2,
   "metadata": {},
   "outputs": [],
   "source": [
    "redistricting_2020 = 'http://api.census.gov/data/2020/dec/pl'\n",
    "\n",
    "rc_county_2020 = '?get=P1_001N,P1_002N,P1_003N,P1_004N,P1_005N,P1_006N,P1_007N,P1_008N,P1_009N&for=COUNTY:*'\n",
    "\n",
    "race_county_2020 = redistricting_2020 + rc_county_2020 + census_api_key\n"
   ]
  },
  {
   "cell_type": "code",
   "execution_count": 3,
   "metadata": {},
   "outputs": [
    {
     "name": "stdout",
     "output_type": "stream",
     "text": [
      "<Response [200]>\n"
     ]
    }
   ],
   "source": [
    "table_maker = race_county_2020\n",
    "file_name = 'race_county_2020'\n",
    "\n",
    "filepath = r'..\\cpst_tables\\tbl-' + file_name + '.csv'\n",
    "\n",
    "response = requests.get(table_maker)\n",
    "print(response)\n",
    "res = response.json()\n",
    "res = pd.DataFrame(res)\n",
    "res['FIPS'] = res[9] + res[10]\n",
    "res = res.rename(columns=res.iloc[0])\n",
    "res = res.drop(res.index[0])\n",
    "res.to_csv(filepath, index=False)\n"
   ]
  },
  {
   "cell_type": "code",
   "execution_count": null,
   "metadata": {},
   "outputs": [],
   "source": []
  }
 ],
 "metadata": {
  "interpreter": {
   "hash": "b3ba2566441a7c06988d0923437866b63cedc61552a5af99d1f4fb67d367b25f"
  },
  "kernelspec": {
   "display_name": "Python 3.9.7 ('base')",
   "language": "python",
   "name": "python3"
  },
  "language_info": {
   "codemirror_mode": {
    "name": "ipython",
    "version": 3
   },
   "file_extension": ".py",
   "mimetype": "text/x-python",
   "name": "python",
   "nbconvert_exporter": "python",
   "pygments_lexer": "ipython3",
   "version": "3.9.7"
  },
  "orig_nbformat": 4
 },
 "nbformat": 4,
 "nbformat_minor": 2
}
