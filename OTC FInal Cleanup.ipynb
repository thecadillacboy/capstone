{
 "cells": [
  {
   "cell_type": "code",
   "execution_count": 1,
   "metadata": {},
   "outputs": [],
   "source": [
    "import pandas as pd\n",
    "import numpy as np\n",
    "import regex\n",
    "from pathlib import Path"
   ]
  },
  {
   "cell_type": "code",
   "execution_count": 2,
   "metadata": {},
   "outputs": [],
   "source": [
    "HRSA_raw = pd.read_csv(r'C:\\Users\\David Chaniott\\Documents\\Nashville Software School\\capstone\\data\\hrsa\\HRSA - 2021 - Cleaned.csv')"
   ]
  },
  {
   "cell_type": "code",
   "execution_count": 3,
   "metadata": {},
   "outputs": [
    {
     "name": "stdout",
     "output_type": "stream",
     "text": [
      "254\n",
      "48\n",
      "137\n",
      "<class 'pandas.core.frame.DataFrame'>\n",
      "RangeIndex: 809 entries, 0 to 808\n",
      "Data columns (total 30 columns):\n",
      " #   Column                                                 Non-Null Count  Dtype  \n",
      "---  ------                                                 --------------  -----  \n",
      " 0   OPO Name                                               809 non-null    object \n",
      " 1   OTC Name                                               809 non-null    object \n",
      " 2   OTC Service List                                       809 non-null    object \n",
      " 3   OPO Provider #                                         809 non-null    object \n",
      " 4   OPO Address                                            809 non-null    object \n",
      " 5   OPO City                                               809 non-null    object \n",
      " 6   OPO State                                              809 non-null    object \n",
      " 7   OPO ZIP                                                809 non-null    object \n",
      " 8   OPO Telephone #                                        809 non-null    object \n",
      " 9   OTC Code                                               809 non-null    object \n",
      " 10  OTC Address                                            809 non-null    object \n",
      " 11  OTC City                                               809 non-null    object \n",
      " 12  OTC ZIP                                                809 non-null    int64  \n",
      " 13  Organ Transplantation Center Service Type Description  809 non-null    object \n",
      " 14  Common Region Code                                     809 non-null    int64  \n",
      " 15  Common Region Name                                     809 non-null    object \n",
      " 16  Common State Name                                      809 non-null    object \n",
      " 17  Common State Abbreviation                              809 non-null    object \n",
      " 18  Common State FIPS Code                                 809 non-null    int64  \n",
      " 19  Common State County FIPS Code                          809 non-null    int64  \n",
      " 20  Common County Name                                     809 non-null    object \n",
      " 21  Common City Name with State Abbreviation               809 non-null    object \n",
      " 22  Common Congressional District Name                     809 non-null    object \n",
      " 23  Common Congress Number Text                            809 non-null    int64  \n",
      " 24  Common State FIPS Code Congressional District Number   809 non-null    int64  \n",
      " 25  Common Postal Code                                     809 non-null    int64  \n",
      " 26  OTC Longitude                                          809 non-null    float64\n",
      " 27  OTC Latitude                                           809 non-null    float64\n",
      " 28  Data Warehouse Record Create Date                      809 non-null    object \n",
      " 29  Data Warehouse Record Create Date Text                 809 non-null    object \n",
      "dtypes: float64(2), int64(7), object(21)\n",
      "memory usage: 189.7+ KB\n",
      "None\n"
     ]
    }
   ],
   "source": [
    "# This dataset was created 5-27-2021 by HRSA\n",
    "# tx_center Count - 254\n",
    "print(HRSA_raw['OTC Name'].nunique())\n",
    "# State Count - 48\n",
    "print(HRSA_raw['Common State Name'].nunique())\n",
    "# Cities Count - 137\n",
    "print(HRSA_raw['OTC City'].nunique())\n",
    "print(HRSA_raw.info())"
   ]
  },
  {
   "cell_type": "code",
   "execution_count": 4,
   "metadata": {},
   "outputs": [],
   "source": [
    "# Master list of OTC 2021\n",
    "otc_2021 = HRSA_raw[['OTC Name', 'OTC Address', 'OTC City', 'Common State Name', 'Common State Abbreviation', 'OTC ZIP', 'OTC Longitude', 'OTC Latitude', 'OTC Code']]\n",
    "otc_2021 = otc_2021.drop_duplicates().reset_index(drop=True)\n",
    "\n",
    "#OPO master list\n",
    "opo = HRSA_raw[['OPO Name', 'OPO Address', 'OPO City', 'OPO State', 'OPO ZIP', 'OPO Telephone #', 'OPO Provider #']]\n",
    "opo = opo.drop_duplicates().reset_index(drop=True)\n",
    "\n",
    "# Organs transplanted from each OTC\n",
    "otc_service = HRSA_raw[['OTC Code', 'OTC Service List', 'Organ Transplantation Center Service Type Description']]\n",
    "\n",
    "# Regions Lists\n",
    "regions = HRSA_raw[['Common Region Name', 'Common State Name', 'Common Region Code', 'OPO Provider #', 'OTC Code']]\n",
    "regions = regions.drop_duplicates().reset_index(drop=True)\n",
    "\n",
    "opo_regions = regions[['Common Region Code', 'OPO Provider #']]\n",
    "opo_regions = opo_regions.drop_duplicates().reset_index(drop=True)\n",
    "\n",
    "otc_regions = regions[['Common Region Code', 'OTC Code']]\n",
    "otc_regions = otc_regions.drop_duplicates().reset_index(drop=True)\n",
    "\n",
    "regions = regions.drop(columns=['OPO Provider #', 'OTC Code'])\n",
    "regions = regions.drop_duplicates().reset_index(drop=True)\n",
    "\n",
    "# OPO key = OPO ZIP\n",
    "# OTC key = OTC ZIP\n",
    "hrsa_census_keys = HRSA_raw[['Common State FIPS Code', 'Common State County FIPS Code', 'Common County Name', 'Common City Name with State Abbreviation', 'Common Congressional District Name', 'Common State FIPS Code Congressional District Number', 'Common Postal Code']]\n",
    "hrsa_census_keys = hrsa_census_keys.drop_duplicates()"
   ]
  },
  {
   "cell_type": "markdown",
   "metadata": {},
   "source": [
    "srtr_raw['OTC Address'] = srtr_raw['OTC Address'].astype(object)\n",
    "srtr_raw['Common State Name'] = srtr_raw['Common State Name'].astype(object)\n",
    "srtr_raw['OTC ZIP'] = srtr_raw['OTC ZIP'].astype(object)\n",
    "otc_2021['OTC ZIP'] = otc_2021['OTC ZIP'].astype(object)"
   ]
  },
  {
   "cell_type": "markdown",
   "metadata": {},
   "source": [
    "srtr_raw.merge(otc_2021, how='inner', on='OTC Code')"
   ]
  },
  {
   "cell_type": "markdown",
   "metadata": {},
   "source": [
    "hospitals = [srtr_raw, otc_2021]\n",
    "pd.concat(hospitals, join='inner', keys='OTC Code')"
   ]
  },
  {
   "cell_type": "code",
   "execution_count": 5,
   "metadata": {},
   "outputs": [],
   "source": [
    "srtr_raw = pd.read_csv(r'C:\\Users\\David Chaniott\\Documents\\Nashville Software School\\capstone\\data\\otc-2009-raw.csv')"
   ]
  },
  {
   "cell_type": "code",
   "execution_count": 6,
   "metadata": {},
   "outputs": [],
   "source": [
    "srtr_pending = srtr_raw.loc[srtr_raw['OTC Code'].isnull()].reset_index(drop=True)\n",
    "srtr_finished = srtr_raw.loc[srtr_raw['OTC Code'].notnull()].reset_index(drop=True)"
   ]
  },
  {
   "cell_type": "code",
   "execution_count": 7,
   "metadata": {},
   "outputs": [],
   "source": [
    "srtr_pending_manual = pd.read_csv(r'C:\\Users\\David Chaniott\\Documents\\Nashville Software School\\capstone\\data\\srtr_pending_manual.csv')"
   ]
  },
  {
   "cell_type": "code",
   "execution_count": 8,
   "metadata": {},
   "outputs": [],
   "source": [
    "srtr_pending_2 = srtr_pending_manual.loc[srtr_pending_manual['OTC Code'].isnull()].reset_index(drop=True)\n",
    "srtr_finished_2 = srtr_pending_manual.loc[srtr_pending_manual['OTC Code'].notnull()].reset_index(drop=True)"
   ]
  },
  {
   "cell_type": "code",
   "execution_count": 9,
   "metadata": {},
   "outputs": [],
   "source": [
    "finisheds = [srtr_finished, srtr_finished_2]"
   ]
  },
  {
   "cell_type": "code",
   "execution_count": 10,
   "metadata": {},
   "outputs": [],
   "source": [
    "srtr_pending_2.head(1)\n",
    "# Drop Common State Name\n",
    "srtr_pending_2 = srtr_pending_2.drop(columns=['Common State Name'])"
   ]
  },
  {
   "cell_type": "code",
   "execution_count": 11,
   "metadata": {},
   "outputs": [
    {
     "data": {
      "text/html": [
       "<div>\n",
       "<style scoped>\n",
       "    .dataframe tbody tr th:only-of-type {\n",
       "        vertical-align: middle;\n",
       "    }\n",
       "\n",
       "    .dataframe tbody tr th {\n",
       "        vertical-align: top;\n",
       "    }\n",
       "\n",
       "    .dataframe thead th {\n",
       "        text-align: right;\n",
       "    }\n",
       "</style>\n",
       "<table border=\"1\" class=\"dataframe\">\n",
       "  <thead>\n",
       "    <tr style=\"text-align: right;\">\n",
       "      <th></th>\n",
       "      <th>OTC Name</th>\n",
       "      <th>OTC Address</th>\n",
       "      <th>OTC City</th>\n",
       "      <th>Common State Abbreviation</th>\n",
       "      <th>OTC ZIP</th>\n",
       "      <th>OTC Longtitude</th>\n",
       "      <th>OTC Latitude</th>\n",
       "      <th>OTC Code</th>\n",
       "    </tr>\n",
       "  </thead>\n",
       "  <tbody>\n",
       "    <tr>\n",
       "      <th>0</th>\n",
       "      <td>Baptist Medical Center Princeton</td>\n",
       "      <td>NaN</td>\n",
       "      <td>Birmingham</td>\n",
       "      <td>AL</td>\n",
       "      <td>NaN</td>\n",
       "      <td>NaN</td>\n",
       "      <td>NaN</td>\n",
       "      <td>NaN</td>\n",
       "    </tr>\n",
       "  </tbody>\n",
       "</table>\n",
       "</div>"
      ],
      "text/plain": [
       "                           OTC Name OTC Address    OTC City  \\\n",
       "0  Baptist Medical Center Princeton         NaN  Birmingham   \n",
       "\n",
       "  Common State Abbreviation  OTC ZIP  OTC Longtitude  OTC Latitude OTC Code  \n",
       "0                        AL      NaN             NaN           NaN      NaN  "
      ]
     },
     "execution_count": 11,
     "metadata": {},
     "output_type": "execute_result"
    }
   ],
   "source": [
    "srtr_pending_2.head(1)"
   ]
  },
  {
   "cell_type": "code",
   "execution_count": 12,
   "metadata": {},
   "outputs": [],
   "source": [
    "us_hospitals_full = pd.read_csv(r'C:\\Users\\David Chaniott\\Documents\\Nashville Software School\\capstone\\data\\us_hospital_locations.csv')"
   ]
  },
  {
   "cell_type": "code",
   "execution_count": 13,
   "metadata": {},
   "outputs": [],
   "source": [
    "us_hospitals = us_hospitals_full[['NAME', 'ADDRESS', 'CITY', 'STATE', 'ZIP', 'LONGITUDE', 'LATITUDE']]"
   ]
  },
  {
   "cell_type": "code",
   "execution_count": 14,
   "metadata": {},
   "outputs": [],
   "source": [
    "srtr_finished_2 = srtr_pending_2.drop(columns=['OTC Code'])"
   ]
  },
  {
   "cell_type": "code",
   "execution_count": 15,
   "metadata": {},
   "outputs": [],
   "source": [
    "srtr_pending_2['OTC Name'] = srtr_pending_2['OTC Name'].str.upper()"
   ]
  },
  {
   "cell_type": "code",
   "execution_count": 16,
   "metadata": {},
   "outputs": [
    {
     "name": "stderr",
     "output_type": "stream",
     "text": [
      "C:\\ProgramData\\Anaconda3\\lib\\site-packages\\pandas\\core\\generic.py:5516: SettingWithCopyWarning: \n",
      "A value is trying to be set on a copy of a slice from a DataFrame.\n",
      "Try using .loc[row_indexer,col_indexer] = value instead\n",
      "\n",
      "See the caveats in the documentation: https://pandas.pydata.org/pandas-docs/stable/user_guide/indexing.html#returning-a-view-versus-a-copy\n",
      "  self[name] = value\n"
     ]
    }
   ],
   "source": [
    "us_hospitals.NAME = us_hospitals.NAME.str.upper()"
   ]
  },
  {
   "cell_type": "code",
   "execution_count": 17,
   "metadata": {},
   "outputs": [],
   "source": [
    "us_hospitals = us_hospitals.rename(columns={'NAME' : 'OTC Name', 'ADDRESS' : 'OTC Address', 'CITY' : 'OTC City', 'STATE' : 'Common State Abbreviation', 'ZIP' : 'OTC ZIP', 'LONGITUDE' : 'OTC Longtitude', 'LATITUDE' : 'OTC Latitude'})"
   ]
  },
  {
   "cell_type": "code",
   "execution_count": 18,
   "metadata": {},
   "outputs": [],
   "source": [
    "srtr_pending_2['OTC City'] = srtr_pending_2['OTC City'].str.upper()\n",
    "srtr_pending_2['key'] = srtr_pending_2['OTC Name'] + srtr_pending_2['OTC City'] + srtr_pending_2['Common State Abbreviation']\n",
    "us_hospitals['key'] = us_hospitals['OTC Name'] + us_hospitals['OTC City'] + us_hospitals['Common State Abbreviation']"
   ]
  },
  {
   "cell_type": "code",
   "execution_count": 19,
   "metadata": {},
   "outputs": [],
   "source": [
    "pd.set_option('display.max_row', 10)\n"
   ]
  },
  {
   "cell_type": "code",
   "execution_count": 20,
   "metadata": {},
   "outputs": [
    {
     "data": {
      "text/html": [
       "<div>\n",
       "<style scoped>\n",
       "    .dataframe tbody tr th:only-of-type {\n",
       "        vertical-align: middle;\n",
       "    }\n",
       "\n",
       "    .dataframe tbody tr th {\n",
       "        vertical-align: top;\n",
       "    }\n",
       "\n",
       "    .dataframe thead th {\n",
       "        text-align: right;\n",
       "    }\n",
       "</style>\n",
       "<table border=\"1\" class=\"dataframe\">\n",
       "  <thead>\n",
       "    <tr style=\"text-align: right;\">\n",
       "      <th></th>\n",
       "      <th>OTC Name</th>\n",
       "      <th>OTC Address</th>\n",
       "      <th>OTC City</th>\n",
       "      <th>Common State Abbreviation</th>\n",
       "      <th>OTC ZIP</th>\n",
       "      <th>OTC Longtitude</th>\n",
       "      <th>OTC Latitude</th>\n",
       "      <th>OTC Code</th>\n",
       "      <th>key</th>\n",
       "    </tr>\n",
       "  </thead>\n",
       "  <tbody>\n",
       "    <tr>\n",
       "      <th>0</th>\n",
       "      <td>BAPTIST MEDICAL CENTER PRINCETON</td>\n",
       "      <td>NaN</td>\n",
       "      <td>BIRMINGHAM</td>\n",
       "      <td>AL</td>\n",
       "      <td>NaN</td>\n",
       "      <td>NaN</td>\n",
       "      <td>NaN</td>\n",
       "      <td>NaN</td>\n",
       "      <td>BAPTIST MEDICAL CENTER PRINCETONBIRMINGHAMAL</td>\n",
       "    </tr>\n",
       "  </tbody>\n",
       "</table>\n",
       "</div>"
      ],
      "text/plain": [
       "                           OTC Name OTC Address    OTC City  \\\n",
       "0  BAPTIST MEDICAL CENTER PRINCETON         NaN  BIRMINGHAM   \n",
       "\n",
       "  Common State Abbreviation  OTC ZIP  OTC Longtitude  OTC Latitude OTC Code  \\\n",
       "0                        AL      NaN             NaN           NaN      NaN   \n",
       "\n",
       "                                            key  \n",
       "0  BAPTIST MEDICAL CENTER PRINCETONBIRMINGHAMAL  "
      ]
     },
     "execution_count": 20,
     "metadata": {},
     "output_type": "execute_result"
    }
   ],
   "source": [
    "srtr_pending_2.head(1)"
   ]
  },
  {
   "cell_type": "code",
   "execution_count": 21,
   "metadata": {},
   "outputs": [
    {
     "data": {
      "text/html": [
       "<div>\n",
       "<style scoped>\n",
       "    .dataframe tbody tr th:only-of-type {\n",
       "        vertical-align: middle;\n",
       "    }\n",
       "\n",
       "    .dataframe tbody tr th {\n",
       "        vertical-align: top;\n",
       "    }\n",
       "\n",
       "    .dataframe thead th {\n",
       "        text-align: right;\n",
       "    }\n",
       "</style>\n",
       "<table border=\"1\" class=\"dataframe\">\n",
       "  <thead>\n",
       "    <tr style=\"text-align: right;\">\n",
       "      <th></th>\n",
       "      <th>OTC Name</th>\n",
       "      <th>OTC Address</th>\n",
       "      <th>OTC City</th>\n",
       "      <th>Common State Abbreviation</th>\n",
       "      <th>OTC ZIP</th>\n",
       "      <th>OTC Longtitude</th>\n",
       "      <th>OTC Latitude</th>\n",
       "      <th>key</th>\n",
       "    </tr>\n",
       "  </thead>\n",
       "  <tbody>\n",
       "    <tr>\n",
       "      <th>0</th>\n",
       "      <td>CENTRAL VALLEY GENERAL HOSPITAL</td>\n",
       "      <td>1025 NORTH DOUTY STREET</td>\n",
       "      <td>HANFORD</td>\n",
       "      <td>CA</td>\n",
       "      <td>93230</td>\n",
       "      <td>-119.645667</td>\n",
       "      <td>36.336159</td>\n",
       "      <td>CENTRAL VALLEY GENERAL HOSPITALHANFORDCA</td>\n",
       "    </tr>\n",
       "  </tbody>\n",
       "</table>\n",
       "</div>"
      ],
      "text/plain": [
       "                          OTC Name              OTC Address OTC City  \\\n",
       "0  CENTRAL VALLEY GENERAL HOSPITAL  1025 NORTH DOUTY STREET  HANFORD   \n",
       "\n",
       "  Common State Abbreviation  OTC ZIP  OTC Longtitude  OTC Latitude  \\\n",
       "0                        CA    93230     -119.645667     36.336159   \n",
       "\n",
       "                                        key  \n",
       "0  CENTRAL VALLEY GENERAL HOSPITALHANFORDCA  "
      ]
     },
     "execution_count": 21,
     "metadata": {},
     "output_type": "execute_result"
    }
   ],
   "source": [
    "us_hospitals.head(1)"
   ]
  },
  {
   "cell_type": "code",
   "execution_count": 22,
   "metadata": {},
   "outputs": [],
   "source": [
    "test = srtr_pending_2[['key']]"
   ]
  },
  {
   "cell_type": "code",
   "execution_count": 23,
   "metadata": {},
   "outputs": [],
   "source": [
    "test2 = test.merge(us_hospitals, how='left', on='key')\n",
    "# Drop key, drop/fix OTC name column"
   ]
  },
  {
   "cell_type": "code",
   "execution_count": 24,
   "metadata": {},
   "outputs": [
    {
     "name": "stdout",
     "output_type": "stream",
     "text": [
      "<class 'pandas.core.frame.DataFrame'>\n",
      "Int64Index: 99 entries, 0 to 98\n",
      "Data columns (total 8 columns):\n",
      " #   Column                     Non-Null Count  Dtype  \n",
      "---  ------                     --------------  -----  \n",
      " 0   key                        99 non-null     object \n",
      " 1   OTC Name                   21 non-null     object \n",
      " 2   OTC Address                21 non-null     object \n",
      " 3   OTC City                   21 non-null     object \n",
      " 4   Common State Abbreviation  21 non-null     object \n",
      " 5   OTC ZIP                    21 non-null     float64\n",
      " 6   OTC Longtitude             21 non-null     float64\n",
      " 7   OTC Latitude               21 non-null     float64\n",
      "dtypes: float64(3), object(5)\n",
      "memory usage: 7.0+ KB\n"
     ]
    }
   ],
   "source": [
    "test2.info()"
   ]
  },
  {
   "cell_type": "code",
   "execution_count": 25,
   "metadata": {},
   "outputs": [],
   "source": [
    " pending3 = test2.loc[test2['OTC ZIP'].isnull()].reset_index()"
   ]
  },
  {
   "cell_type": "code",
   "execution_count": 26,
   "metadata": {},
   "outputs": [
    {
     "data": {
      "text/html": [
       "<div>\n",
       "<style scoped>\n",
       "    .dataframe tbody tr th:only-of-type {\n",
       "        vertical-align: middle;\n",
       "    }\n",
       "\n",
       "    .dataframe tbody tr th {\n",
       "        vertical-align: top;\n",
       "    }\n",
       "\n",
       "    .dataframe thead th {\n",
       "        text-align: right;\n",
       "    }\n",
       "</style>\n",
       "<table border=\"1\" class=\"dataframe\">\n",
       "  <thead>\n",
       "    <tr style=\"text-align: right;\">\n",
       "      <th></th>\n",
       "      <th>index</th>\n",
       "      <th>key</th>\n",
       "      <th>OTC Name</th>\n",
       "      <th>OTC Address</th>\n",
       "      <th>OTC City</th>\n",
       "      <th>Common State Abbreviation</th>\n",
       "      <th>OTC ZIP</th>\n",
       "      <th>OTC Longtitude</th>\n",
       "      <th>OTC Latitude</th>\n",
       "    </tr>\n",
       "  </thead>\n",
       "  <tbody>\n",
       "    <tr>\n",
       "      <th>0</th>\n",
       "      <td>0</td>\n",
       "      <td>BAPTIST MEDICAL CENTER PRINCETONBIRMINGHAMAL</td>\n",
       "      <td>NaN</td>\n",
       "      <td>NaN</td>\n",
       "      <td>NaN</td>\n",
       "      <td>NaN</td>\n",
       "      <td>NaN</td>\n",
       "      <td>NaN</td>\n",
       "      <td>NaN</td>\n",
       "    </tr>\n",
       "    <tr>\n",
       "      <th>1</th>\n",
       "      <td>2</td>\n",
       "      <td>JOHN L. MCCLELLAN VETERANS ADMINISTRATION HOSP...</td>\n",
       "      <td>NaN</td>\n",
       "      <td>NaN</td>\n",
       "      <td>NaN</td>\n",
       "      <td>NaN</td>\n",
       "      <td>NaN</td>\n",
       "      <td>NaN</td>\n",
       "      <td>NaN</td>\n",
       "    </tr>\n",
       "    <tr>\n",
       "      <th>2</th>\n",
       "      <td>3</td>\n",
       "      <td>PHOENIX REGIONAL MEDICAL CENTERPHOENIXAZ</td>\n",
       "      <td>NaN</td>\n",
       "      <td>NaN</td>\n",
       "      <td>NaN</td>\n",
       "      <td>NaN</td>\n",
       "      <td>NaN</td>\n",
       "      <td>NaN</td>\n",
       "      <td>NaN</td>\n",
       "    </tr>\n",
       "    <tr>\n",
       "      <th>3</th>\n",
       "      <td>5</td>\n",
       "      <td>VETERANS ADMINISTRATION MEDICAL CENTER TUCSONT...</td>\n",
       "      <td>NaN</td>\n",
       "      <td>NaN</td>\n",
       "      <td>NaN</td>\n",
       "      <td>NaN</td>\n",
       "      <td>NaN</td>\n",
       "      <td>NaN</td>\n",
       "      <td>NaN</td>\n",
       "    </tr>\n",
       "    <tr>\n",
       "      <th>4</th>\n",
       "      <td>6</td>\n",
       "      <td>ALTA BATES MEDICAL CENTERBERKELEYCA</td>\n",
       "      <td>NaN</td>\n",
       "      <td>NaN</td>\n",
       "      <td>NaN</td>\n",
       "      <td>NaN</td>\n",
       "      <td>NaN</td>\n",
       "      <td>NaN</td>\n",
       "      <td>NaN</td>\n",
       "    </tr>\n",
       "    <tr>\n",
       "      <th>...</th>\n",
       "      <td>...</td>\n",
       "      <td>...</td>\n",
       "      <td>...</td>\n",
       "      <td>...</td>\n",
       "      <td>...</td>\n",
       "      <td>...</td>\n",
       "      <td>...</td>\n",
       "      <td>...</td>\n",
       "      <td>...</td>\n",
       "    </tr>\n",
       "    <tr>\n",
       "      <th>73</th>\n",
       "      <td>94</td>\n",
       "      <td>SALT LAKE CITY VETERANS ADMINISTRATION MEDICAL...</td>\n",
       "      <td>NaN</td>\n",
       "      <td>NaN</td>\n",
       "      <td>NaN</td>\n",
       "      <td>NaN</td>\n",
       "      <td>NaN</td>\n",
       "      <td>NaN</td>\n",
       "      <td>NaN</td>\n",
       "    </tr>\n",
       "    <tr>\n",
       "      <th>74</th>\n",
       "      <td>95</td>\n",
       "      <td>FLETCHER ALLEN HEALTH CAREBURLINGTONVT</td>\n",
       "      <td>NaN</td>\n",
       "      <td>NaN</td>\n",
       "      <td>NaN</td>\n",
       "      <td>NaN</td>\n",
       "      <td>NaN</td>\n",
       "      <td>NaN</td>\n",
       "      <td>NaN</td>\n",
       "    </tr>\n",
       "    <tr>\n",
       "      <th>75</th>\n",
       "      <td>96</td>\n",
       "      <td>JOHN L DOYNE HOSPMILWAUKEEWI</td>\n",
       "      <td>NaN</td>\n",
       "      <td>NaN</td>\n",
       "      <td>NaN</td>\n",
       "      <td>NaN</td>\n",
       "      <td>NaN</td>\n",
       "      <td>NaN</td>\n",
       "      <td>NaN</td>\n",
       "    </tr>\n",
       "    <tr>\n",
       "      <th>76</th>\n",
       "      <td>97</td>\n",
       "      <td>ZABLOCKI VETERANS ADMINISTRATION MEDICAL CENTE...</td>\n",
       "      <td>NaN</td>\n",
       "      <td>NaN</td>\n",
       "      <td>NaN</td>\n",
       "      <td>NaN</td>\n",
       "      <td>NaN</td>\n",
       "      <td>NaN</td>\n",
       "      <td>NaN</td>\n",
       "    </tr>\n",
       "    <tr>\n",
       "      <th>77</th>\n",
       "      <td>98</td>\n",
       "      <td>WEST VIRGINIA UNIVERSITY HOSPITALMORGANTOWNWV</td>\n",
       "      <td>NaN</td>\n",
       "      <td>NaN</td>\n",
       "      <td>NaN</td>\n",
       "      <td>NaN</td>\n",
       "      <td>NaN</td>\n",
       "      <td>NaN</td>\n",
       "      <td>NaN</td>\n",
       "    </tr>\n",
       "  </tbody>\n",
       "</table>\n",
       "<p>78 rows × 9 columns</p>\n",
       "</div>"
      ],
      "text/plain": [
       "    index                                                key OTC Name  \\\n",
       "0       0       BAPTIST MEDICAL CENTER PRINCETONBIRMINGHAMAL      NaN   \n",
       "1       2  JOHN L. MCCLELLAN VETERANS ADMINISTRATION HOSP...      NaN   \n",
       "2       3           PHOENIX REGIONAL MEDICAL CENTERPHOENIXAZ      NaN   \n",
       "3       5  VETERANS ADMINISTRATION MEDICAL CENTER TUCSONT...      NaN   \n",
       "4       6                ALTA BATES MEDICAL CENTERBERKELEYCA      NaN   \n",
       "..    ...                                                ...      ...   \n",
       "73     94  SALT LAKE CITY VETERANS ADMINISTRATION MEDICAL...      NaN   \n",
       "74     95             FLETCHER ALLEN HEALTH CAREBURLINGTONVT      NaN   \n",
       "75     96                       JOHN L DOYNE HOSPMILWAUKEEWI      NaN   \n",
       "76     97  ZABLOCKI VETERANS ADMINISTRATION MEDICAL CENTE...      NaN   \n",
       "77     98      WEST VIRGINIA UNIVERSITY HOSPITALMORGANTOWNWV      NaN   \n",
       "\n",
       "   OTC Address OTC City Common State Abbreviation  OTC ZIP  OTC Longtitude  \\\n",
       "0          NaN      NaN                       NaN      NaN             NaN   \n",
       "1          NaN      NaN                       NaN      NaN             NaN   \n",
       "2          NaN      NaN                       NaN      NaN             NaN   \n",
       "3          NaN      NaN                       NaN      NaN             NaN   \n",
       "4          NaN      NaN                       NaN      NaN             NaN   \n",
       "..         ...      ...                       ...      ...             ...   \n",
       "73         NaN      NaN                       NaN      NaN             NaN   \n",
       "74         NaN      NaN                       NaN      NaN             NaN   \n",
       "75         NaN      NaN                       NaN      NaN             NaN   \n",
       "76         NaN      NaN                       NaN      NaN             NaN   \n",
       "77         NaN      NaN                       NaN      NaN             NaN   \n",
       "\n",
       "    OTC Latitude  \n",
       "0            NaN  \n",
       "1            NaN  \n",
       "2            NaN  \n",
       "3            NaN  \n",
       "4            NaN  \n",
       "..           ...  \n",
       "73           NaN  \n",
       "74           NaN  \n",
       "75           NaN  \n",
       "76           NaN  \n",
       "77           NaN  \n",
       "\n",
       "[78 rows x 9 columns]"
      ]
     },
     "execution_count": 26,
     "metadata": {},
     "output_type": "execute_result"
    }
   ],
   "source": [
    "pending3"
   ]
  },
  {
   "cell_type": "code",
   "execution_count": 27,
   "metadata": {},
   "outputs": [
    {
     "name": "stdout",
     "output_type": "stream",
     "text": [
      "HRSA_raw\t Path\t finisheds\t hrsa_census_keys\t np\t opo\t opo_regions\t os\t otc_2021\t \n",
      "otc_regions\t otc_service\t pd\t pending3\t regex\t regions\t site\t srtr_finished\t srtr_finished_2\t \n",
      "srtr_pending\t srtr_pending_2\t srtr_pending_manual\t srtr_raw\t sys\t test\t test2\t us_hospitals\t us_hospitals_full\t \n",
      "\n"
     ]
    }
   ],
   "source": [
    "%who"
   ]
  },
  {
   "cell_type": "code",
   "execution_count": null,
   "metadata": {},
   "outputs": [],
   "source": [
    "still_looking = "
   ]
  }
 ],
 "metadata": {
  "interpreter": {
   "hash": "78452158fba0cedec4009542752dacdeabb6738d078a7ed98857d98ad1b3ad45"
  },
  "kernelspec": {
   "display_name": "Python 3.9.10 64-bit (windows store)",
   "language": "python",
   "name": "python3"
  },
  "language_info": {
   "codemirror_mode": {
    "name": "ipython",
    "version": 3
   },
   "file_extension": ".py",
   "mimetype": "text/x-python",
   "name": "python",
   "nbconvert_exporter": "python",
   "pygments_lexer": "ipython3",
   "version": "3.9.7"
  },
  "orig_nbformat": 4
 },
 "nbformat": 4,
 "nbformat_minor": 2
}
