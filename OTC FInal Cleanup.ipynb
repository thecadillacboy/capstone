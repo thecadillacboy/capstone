{
 "cells": [
  {
   "cell_type": "code",
   "execution_count": null,
   "metadata": {},
   "outputs": [],
   "source": [
    "import pandas as pd\n",
    "import numpy as np\n",
    "import regex\n",
    "from pathlib import Path"
   ]
  },
  {
   "cell_type": "code",
   "execution_count": null,
   "metadata": {},
   "outputs": [],
   "source": [
    "HRSA_raw = pd.read_csv(r'C:\\Users\\David Chaniott\\Documents\\Nashville Software School\\capstone\\data\\hrsa\\HRSA - 2021 - Cleaned.csv')"
   ]
  },
  {
   "cell_type": "code",
   "execution_count": null,
   "metadata": {},
   "outputs": [],
   "source": [
    "# This dataset was created 5-27-2021 by HRSA\n",
    "# tx_center Count - 254\n",
    "print(HRSA_raw['OTC Name'].nunique())\n",
    "# State Count - 48\n",
    "print(HRSA_raw['Common State Name'].nunique())\n",
    "# Cities Count - 137\n",
    "print(HRSA_raw['OTC City'].nunique())\n",
    "print(HRSA_raw.info())"
   ]
  },
  {
   "cell_type": "code",
   "execution_count": null,
   "metadata": {},
   "outputs": [],
   "source": [
    "# Master list of OTC 2021\n",
    "otc_2021 = HRSA_raw[['OTC Name', 'OTC Address', 'OTC City', 'Common State Name', 'Common State Abbreviation', 'OTC ZIP', 'OTC Longitude', 'OTC Latitude', 'OTC Code']]\n",
    "otc_2021 = otc_2021.drop_duplicates().reset_index(drop=True)\n",
    "\n",
    "#OPO master list\n",
    "opo = HRSA_raw[['OPO Name', 'OPO Address', 'OPO City', 'OPO State', 'OPO ZIP', 'OPO Telephone #', 'OPO Provider #']]\n",
    "opo = opo.drop_duplicates().reset_index(drop=True)\n",
    "\n",
    "# Organs transplanted from each OTC\n",
    "otc_service = HRSA_raw[['OTC Code', 'OTC Service List', 'Organ Transplantation Center Service Type Description']]\n",
    "\n",
    "# Regions Lists\n",
    "regions = HRSA_raw[['Common Region Name', 'Common State Name', 'Common Region Code', 'OPO Provider #', 'OTC Code']]\n",
    "regions = regions.drop_duplicates().reset_index(drop=True)\n",
    "\n",
    "opo_regions = regions[['Common Region Code', 'OPO Provider #']]\n",
    "opo_regions = opo_regions.drop_duplicates().reset_index(drop=True)\n",
    "\n",
    "otc_regions = regions[['Common Region Code', 'OTC Code']]\n",
    "otc_regions = otc_regions.drop_duplicates().reset_index(drop=True)\n",
    "\n",
    "regions = regions.drop(columns=['OPO Provider #', 'OTC Code'])\n",
    "regions = regions.drop_duplicates().reset_index(drop=True)\n",
    "\n",
    "# OPO key = OPO ZIP\n",
    "# OTC key = OTC ZIP\n",
    "hrsa_census_keys = HRSA_raw[['Common State FIPS Code', 'Common State County FIPS Code', 'Common County Name', 'Common City Name with State Abbreviation', 'Common Congressional District Name', 'Common State FIPS Code Congressional District Number', 'Common Postal Code']]\n",
    "hrsa_census_keys = hrsa_census_keys.drop_duplicates()"
   ]
  },
  {
   "cell_type": "code",
   "execution_count": null,
   "metadata": {},
   "outputs": [],
   "source": [
    "srtr_raw = pd.read_csv(r'C:\\Users\\David Chaniott\\Documents\\Nashville Software School\\capstone\\data\\otc-2009-raw.csv')"
   ]
  },
  {
   "cell_type": "code",
   "execution_count": null,
   "metadata": {},
   "outputs": [],
   "source": [
    "srtr_raw['OTC Address'] = srtr_raw['OTC Address'].astype(object)\n",
    "srtr_raw['Common State Name'] = srtr_raw['Common State Name'].astype(object)\n",
    "srtr_raw['OTC ZIP'] = srtr_raw['OTC ZIP'].astype(object)\n",
    "otc_2021['OTC ZIP'] = otc_2021['OTC ZIP'].astype(object)"
   ]
  },
  {
   "cell_type": "code",
   "execution_count": null,
   "metadata": {},
   "outputs": [],
   "source": [
    "srtr_raw.merge(otc_2021, how='inner', on='OTC Code')"
   ]
  },
  {
   "cell_type": "code",
   "execution_count": null,
   "metadata": {},
   "outputs": [],
   "source": [
    "hospitals = [srtr_raw, otc_2021]\n",
    "pd.concat(hospitals, join='inner', keys='OTC Code')"
   ]
  },
  {
   "cell_type": "code",
   "execution_count": null,
   "metadata": {},
   "outputs": [],
   "source": [
    "srtr_pending = srtr_raw.loc[srtr_raw['OTC Code'].isnull()].reset_index(drop=True)\n",
    "srtr_finished = srtr_raw.loc[srtr_raw['OTC Code'].notnull()].reset_index(drop=True)"
   ]
  },
  {
   "cell_type": "code",
   "execution_count": null,
   "metadata": {},
   "outputs": [],
   "source": [
    "srtr_pending_manual = pd.read_csv(r'C:\\Users\\David Chaniott\\Documents\\Nashville Software School\\capstone\\data\\srtr_pending_manual.csv')"
   ]
  },
  {
   "cell_type": "code",
   "execution_count": null,
   "metadata": {},
   "outputs": [],
   "source": [
    "srtr_pending_2 = srtr_pending_manual.loc[srtr_pending_manual['OTC Code'].isnull()].reset_index(drop=True)\n",
    "srtr_finished_2 = srtr_pending_manual.loc[srtr_pending_manual['OTC Code'].notnull()].reset_index(drop=True)"
   ]
  },
  {
   "cell_type": "code",
   "execution_count": null,
   "metadata": {},
   "outputs": [],
   "source": [
    "finisheds = [srtr_finished, srtr_finished_2]"
   ]
  },
  {
   "cell_type": "code",
   "execution_count": null,
   "metadata": {},
   "outputs": [],
   "source": [
    "srtr_pending_2.head(1)\n",
    "# Drop Common State Name\n",
    "srtr_pending_2 = srtr_pending_2.drop(columns=['Common State Name'])"
   ]
  },
  {
   "cell_type": "code",
   "execution_count": null,
   "metadata": {},
   "outputs": [],
   "source": [
    "srtr_pending_2.head(1)"
   ]
  },
  {
   "cell_type": "code",
   "execution_count": null,
   "metadata": {},
   "outputs": [],
   "source": [
    "us_hospitals_full = pd.read_csv(r'C:\\Users\\David Chaniott\\Documents\\Nashville Software School\\capstone\\data\\us_hospital_locations.csv')"
   ]
  },
  {
   "cell_type": "code",
   "execution_count": null,
   "metadata": {},
   "outputs": [],
   "source": [
    "us_hospitals = us_hospitals_full[['NAME', 'ADDRESS', 'CITY', 'STATE', 'ZIP', 'LONGITUDE', 'LATITUDE']]"
   ]
  },
  {
   "cell_type": "code",
   "execution_count": null,
   "metadata": {},
   "outputs": [],
   "source": [
    "# Don't really need an OTC Code for 2009\n",
    "srtr_finished_2 = srtr_pending_2.drop(columns=['OTC Code'])"
   ]
  },
  {
   "cell_type": "code",
   "execution_count": null,
   "metadata": {},
   "outputs": [],
   "source": [
    "srtr_pending_2['OTC Name'] = srtr_pending_2['OTC Name'].str.upper()"
   ]
  },
  {
   "cell_type": "code",
   "execution_count": null,
   "metadata": {},
   "outputs": [],
   "source": [
    "us_hospitals.NAME = us_hospitals.NAME.str.upper()"
   ]
  },
  {
   "cell_type": "code",
   "execution_count": null,
   "metadata": {},
   "outputs": [],
   "source": [
    "us_hospitals = us_hospitals.rename(columns={'NAME' : 'OTC Name', 'ADDRESS' : 'OTC Address', 'CITY' : 'OTC City', 'STATE' : 'Common State Abbreviation', 'ZIP' : 'OTC ZIP', 'LONGITUDE' : 'OTC Longtitude', 'LATITUDE' : 'OTC Latitude'})"
   ]
  },
  {
   "cell_type": "code",
   "execution_count": null,
   "metadata": {},
   "outputs": [],
   "source": [
    "srtr_pending_2['OTC City'] = srtr_pending_2['OTC City'].str.upper()\n",
    "srtr_pending_2['key'] = srtr_pending_2['OTC Name'] + srtr_pending_2['OTC City'] + srtr_pending_2['Common State Abbreviation']\n",
    "us_hospitals['key'] = us_hospitals['OTC Name'] + us_hospitals['OTC City'] + us_hospitals['Common State Abbreviation']"
   ]
  },
  {
   "cell_type": "code",
   "execution_count": null,
   "metadata": {},
   "outputs": [],
   "source": [
    "pd.set_option('display.max_row', 10)\n"
   ]
  },
  {
   "cell_type": "code",
   "execution_count": null,
   "metadata": {},
   "outputs": [],
   "source": [
    "srtr_pending_2.head(1)"
   ]
  },
  {
   "cell_type": "code",
   "execution_count": null,
   "metadata": {},
   "outputs": [],
   "source": [
    "us_hospitals.head(1)"
   ]
  },
  {
   "cell_type": "code",
   "execution_count": null,
   "metadata": {},
   "outputs": [],
   "source": [
    "test = srtr_pending_2[['key']]"
   ]
  },
  {
   "cell_type": "code",
   "execution_count": null,
   "metadata": {},
   "outputs": [],
   "source": [
    "test2 = test.merge(us_hospitals, how='left', on='key')\n",
    "# Drop key, drop/fix OTC name column"
   ]
  },
  {
   "cell_type": "code",
   "execution_count": null,
   "metadata": {},
   "outputs": [],
   "source": [
    "test2.info()"
   ]
  },
  {
   "cell_type": "code",
   "execution_count": null,
   "metadata": {},
   "outputs": [],
   "source": [
    "pending3 = test2.loc[test2['OTC ZIP'].isnull()].reset_index()"
   ]
  },
  {
   "cell_type": "code",
   "execution_count": null,
   "metadata": {},
   "outputs": [],
   "source": [
    "pending3"
   ]
  },
  {
   "cell_type": "code",
   "execution_count": null,
   "metadata": {},
   "outputs": [],
   "source": [
    "%who"
   ]
  },
  {
   "cell_type": "code",
   "execution_count": null,
   "metadata": {},
   "outputs": [],
   "source": [
    "still_looking = "
   ]
  }
 ],
 "metadata": {
  "interpreter": {
   "hash": "78452158fba0cedec4009542752dacdeabb6738d078a7ed98857d98ad1b3ad45"
  },
  "kernelspec": {
   "display_name": "Python 3.9.10 64-bit (windows store)",
   "language": "python",
   "name": "python3"
  },
  "language_info": {
   "codemirror_mode": {
    "name": "ipython",
    "version": 3
   },
   "file_extension": ".py",
   "mimetype": "text/x-python",
   "name": "python",
   "nbconvert_exporter": "python",
   "pygments_lexer": "ipython3",
   "version": "3.9.7"
  },
  "orig_nbformat": 4
 },
 "nbformat": 4,
 "nbformat_minor": 2
}
