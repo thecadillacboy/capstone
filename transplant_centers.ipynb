{
 "cells": [
  {
   "cell_type": "code",
   "execution_count": 147,
   "metadata": {},
   "outputs": [],
   "source": [
    "import pandas as pd\n",
    "import numpy as np\n",
    "import regex\n",
    "from pathlib import Path\n",
    "from fuzzywuzzy import fuzz\n",
    "from fuzzywuzzy import process"
   ]
  },
  {
   "cell_type": "code",
   "execution_count": 148,
   "metadata": {},
   "outputs": [],
   "source": [
    "# Excel Data Sets\n",
    "full_data_2021 = pd.read_csv(r'C:\\Users\\David Chaniott\\Documents\\Nashville Software School\\capstone\\data\\hrsa\\ORG_OTC_FCT_DET.csv')\n",
    "tx_centers2009 = pd.read_csv(r'C:\\Users\\David Chaniott\\Documents\\Nashville Software School\\capstone\\data\\txcenters2009clean.csv')\n",
    "\n",
    "# # Old CSV. A cleaned version is available now.\n",
    "# tx_centers2009 = pd.read_csv(r'C:\\Users\\David Chaniott\\Documents\\Nashville Software School\\capstone\\data\\txcenters2009list.csv')"
   ]
  },
  {
   "cell_type": "code",
   "execution_count": 149,
   "metadata": {},
   "outputs": [],
   "source": [
    "# # This work is finished. New CSV for all of it is cleaned up and included in current code.\n",
    "\n",
    "# # Delimit everything with commas.\n",
    "# tx_centers2009['Split'] = tx_centers2009.apply(lambda x: ','.join(x.dropna().values.tolist()), axis=1)\n",
    "# tx_centers2009 = tx_centers2009['Split'].str.split(',', expand=True)\n",
    "\n",
    "# # Remove Hanging Spaces\n",
    "# tx_centers2009 = tx_centers2009.replace(r\"^ +| +$\", r\"\", regex=True)\n",
    "# Remove (ABBR)\n",
    "tx_centers2009['OPO Name'] = tx_centers2009['OPO Name'].replace(r\"\\(\\w{4}\\)\", r\"\", regex=True)\n",
    "\n",
    "# # This did not work.\n",
    "# # from pathlib import Path\n",
    "# # filepath = Path('C:\\Users\\David Chaniott\\Documents\\Nashville Software School\\capstone\\data\\test.csv')\n",
    "# # filepath.parent.mkdir(parents=True, exist_ok=True)  \n",
    "# # tx_centers2009.to_csv(filepath)\n",
    "\n",
    "# # This worked\n",
    "# compression_opts = dict(method='zip',\n",
    "#                         archive_name='out.csv')  \n",
    "# tx_centers2009.to_csv('out.zip', index=False,\n",
    "#           compression=compression_opts)"
   ]
  },
  {
   "cell_type": "code",
   "execution_count": 150,
   "metadata": {},
   "outputs": [
    {
     "name": "stdout",
     "output_type": "stream",
     "text": [
      "254\n",
      "39\n",
      "58\n",
      "<class 'pandas.core.frame.DataFrame'>\n",
      "RangeIndex: 809 entries, 0 to 808\n",
      "Data columns (total 31 columns):\n",
      " #   Column                                                 Non-Null Count  Dtype  \n",
      "---  ------                                                 --------------  -----  \n",
      " 0   OPO Name                                               809 non-null    object \n",
      " 1   OTC Name                                               809 non-null    object \n",
      " 2   OTC Service List                                       809 non-null    object \n",
      " 3   OPO Provider #                                         809 non-null    object \n",
      " 4   Address                                                809 non-null    object \n",
      " 5   City                                                   809 non-null    object \n",
      " 6   State                                                  809 non-null    object \n",
      " 7   ZIP                                                    809 non-null    object \n",
      " 8   OPO Telephone #                                        809 non-null    object \n",
      " 9   OTC Code                                               809 non-null    object \n",
      " 10  Address.1                                              809 non-null    object \n",
      " 11  City.1                                                 809 non-null    object \n",
      " 12  ZIP.1                                                  809 non-null    int64  \n",
      " 13  Organ Transplantation Center Service Type Description  809 non-null    object \n",
      " 14  Common Region Code                                     809 non-null    int64  \n",
      " 15  Common Region Name                                     809 non-null    object \n",
      " 16  Common State Name                                      809 non-null    object \n",
      " 17  Common State Abbreviation                              809 non-null    object \n",
      " 18  Common State FIPS Code                                 809 non-null    int64  \n",
      " 19  Common State County FIPS Code                          809 non-null    int64  \n",
      " 20  Common County Name                                     809 non-null    object \n",
      " 21  Common City Name with State Abbreviation               809 non-null    object \n",
      " 22  Common Congressional District Name                     809 non-null    object \n",
      " 23  Common Congress Number Text                            809 non-null    int64  \n",
      " 24  Common State FIPS Code Congressional District Number   809 non-null    int64  \n",
      " 25  Common Postal Code                                     809 non-null    int64  \n",
      " 26  Longitude                                              809 non-null    float64\n",
      " 27  Latitude                                               809 non-null    float64\n",
      " 28  Data Warehouse Record Create Date                      809 non-null    object \n",
      " 29  Data Warehouse Record Create Date Text                 809 non-null    object \n",
      " 30  Unnamed: 30                                            0 non-null      float64\n",
      "dtypes: float64(3), int64(7), object(21)\n",
      "memory usage: 196.1+ KB\n",
      "None\n"
     ]
    }
   ],
   "source": [
    "# This dataset was created 5-27-2021 by HRSA\n",
    "# tx_center Count - 254\n",
    "print(full_data_2021['OTC Name'].nunique())\n",
    "# State Count - 39\n",
    "print(full_data_2021.State.nunique())\n",
    "# Cities Count - 58\n",
    "print(full_data_2021.City.nunique())\n",
    "\n",
    "print(full_data_2021.info())"
   ]
  },
  {
   "cell_type": "code",
   "execution_count": 151,
   "metadata": {},
   "outputs": [
    {
     "name": "stdout",
     "output_type": "stream",
     "text": [
      "327\n",
      "48\n",
      "169\n",
      "<class 'pandas.core.frame.DataFrame'>\n",
      "RangeIndex: 333 entries, 0 to 332\n",
      "Data columns (total 4 columns):\n",
      " #   Column    Non-Null Count  Dtype \n",
      "---  ------    --------------  ----- \n",
      " 0   OTC Name  333 non-null    object\n",
      " 1   City      333 non-null    object\n",
      " 2   State     333 non-null    object\n",
      " 3   OPO Name  333 non-null    object\n",
      "dtypes: object(4)\n",
      "memory usage: 10.5+ KB\n",
      "None\n"
     ]
    }
   ],
   "source": [
    "# This dataset was created 5-2009 by SRTR\n",
    "# tx_center Count - 327\n",
    "print(tx_centers2009['OTC Name'].nunique())\n",
    "# State Count - 48\n",
    "print(tx_centers2009.State.nunique())\n",
    "# Cities Count - 169\n",
    "print(tx_centers2009.City.nunique())\n",
    "\n",
    "print(tx_centers2009.info())"
   ]
  },
  {
   "cell_type": "code",
   "execution_count": 152,
   "metadata": {},
   "outputs": [],
   "source": [
    "# Questions:\n",
    "# Do surgeons work at different TX Centers?\n",
    "# Get Footprints of the OPOs\n",
    "\n",
    "# Match up the 2009 and 2021 lists\n",
    "# Get the 2021 list noted with NEW hospitals.\n",
    "# Get the 2009 list noted with CLOSURES\n",
    "# Get the 2009 list coded with lat.long"
   ]
  },
  {
   "cell_type": "code",
   "execution_count": 153,
   "metadata": {},
   "outputs": [],
   "source": [
    "# Merge for the 2009 data.\n",
    "tx_centers2009\n",
    "merge_2009 = tx_centers2009\n",
    "\n",
    "# Make a 2021 list and remove duplicates.\n",
    "tx_centers2021 = full_data_2021[['OTC Name', 'City', 'State', 'OPO Name', 'OTC Code', 'OPO Provider #']]\n",
    "tx_centers2021 = tx_centers2021.drop_duplicates()\n",
    "merge_2021 = tx_centers2021\n",
    "\n"
   ]
  },
  {
   "cell_type": "code",
   "execution_count": 154,
   "metadata": {},
   "outputs": [],
   "source": [
    "# Add Columns ['Year'], ['OTC Code'], ['OPO Provider #']\n",
    "# Later: address, lat, long region codes\n",
    "\n",
    "merge_2009['OTC Code'] = 'pending'\n",
    "merge_2009['OPO Provider #'] = 'pending'\n",
    "merge_2009['Year'] = 2009\n",
    "merge_2021['Year'] = 2021\n",
    "#merge_2009['Year'] = 2009\n",
    "#merge_2009.loc[:, merge_2009['Year']] = 2009\n"
   ]
  },
  {
   "cell_type": "code",
   "execution_count": 155,
   "metadata": {},
   "outputs": [],
   "source": [
    "tablelist = [merge_2009, merge_2021]\n",
    "tx_centersall = pd.concat(tablelist)\n",
    "tx_centersall = tx_centersall.drop_duplicates()\n",
    "\n",
    "compression_opts = dict(method='zip',\n",
    "                         archive_name='out.csv')  \n",
    "tx_centersall.to_csv('out.zip', index=False,\n",
    "           compression=compression_opts)"
   ]
  },
  {
   "cell_type": "code",
   "execution_count": 156,
   "metadata": {},
   "outputs": [],
   "source": [
    "# #tx_centers2021.groupby('OTC Name')['State']\n",
    "# otc_2021_list = pd.unique(tx_centers2021['OTC Name'])\n",
    "\n",
    "# otc_2021 = []\n",
    "# pd.DataFrame(otc_2021)\n",
    "# otc_2021['OTC Name'] = []\n",
    "# for otc in otc_2021_list :\n",
    "#     i = tx_centers2021.loc[tx_centers2021['OTC Name'] == str(otc)]\n",
    "#     otc_2021['OTC Name'] = i['OTC Name']\n",
    "\n"
   ]
  },
  {
   "cell_type": "code",
   "execution_count": 157,
   "metadata": {},
   "outputs": [],
   "source": [
    "# otc2021 = pd.unique(tx_centers2021['OTC Name'])\n",
    "# otc2021 = pd.DataFrame(otc2021)\n",
    "# otc2009 = tx_centers2009\n",
    "# otc2009 = pd.DataFrame(otc2009)"
   ]
  }
 ],
 "metadata": {
  "interpreter": {
   "hash": "b3ba2566441a7c06988d0923437866b63cedc61552a5af99d1f4fb67d367b25f"
  },
  "kernelspec": {
   "display_name": "Python 3.9.7 ('base')",
   "language": "python",
   "name": "python3"
  },
  "language_info": {
   "codemirror_mode": {
    "name": "ipython",
    "version": 3
   },
   "file_extension": ".py",
   "mimetype": "text/x-python",
   "name": "python",
   "nbconvert_exporter": "python",
   "pygments_lexer": "ipython3",
   "version": "3.9.7"
  },
  "orig_nbformat": 4
 },
 "nbformat": 4,
 "nbformat_minor": 2
}
