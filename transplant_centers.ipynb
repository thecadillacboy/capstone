{
 "cells": [
  {
   "cell_type": "code",
   "execution_count": 191,
   "metadata": {},
   "outputs": [],
   "source": [
    "import pandas as pd\n",
    "import numpy as np\n",
    "import regex\n",
    "from pathlib import Path\n",
    "from fuzzywuzzy import fuzz\n",
    "from fuzzywuzzy import process"
   ]
  },
  {
   "cell_type": "code",
   "execution_count": 192,
   "metadata": {},
   "outputs": [],
   "source": [
    "# Excel Data Sets\n",
    "full_data_2021 = pd.read_csv(r'C:\\Users\\David Chaniott\\Documents\\Nashville Software School\\capstone\\data\\hrsa\\ORG_OTC_FCT_DET.csv')\n",
    "tx_centers2009 = pd.read_csv(r'C:\\Users\\David Chaniott\\Documents\\Nashville Software School\\capstone\\data\\txcenters2009clean.csv')\n",
    "\n",
    "# # Old CSV. A cleaned version is available now.\n",
    "# tx_centers2009 = pd.read_csv(r'C:\\Users\\David Chaniott\\Documents\\Nashville Software School\\capstone\\data\\txcenters2009list.csv')"
   ]
  },
  {
   "cell_type": "code",
   "execution_count": 193,
   "metadata": {},
   "outputs": [],
   "source": [
    "# # This work is finished. New CSV for all of it is cleaned up and included in current code.\n",
    "\n",
    "# # Delimit everything with commas.\n",
    "# tx_centers2009['Split'] = tx_centers2009.apply(lambda x: ','.join(x.dropna().values.tolist()), axis=1)\n",
    "# tx_centers2009 = tx_centers2009['Split'].str.split(',', expand=True)\n",
    "\n",
    "# # Remove Hanging Spaces\n",
    "# tx_centers2009 = tx_centers2009.replace(r\"^ +| +$\", r\"\", regex=True)\n",
    "# Remove (ABBR)\n",
    "tx_centers2009['OPO Name'] = tx_centers2009['OPO Name'].replace(r\"\\(\\w{4}\\)\", r\"\", regex=True)\n",
    "\n",
    "# # This did not work.\n",
    "# # from pathlib import Path\n",
    "# # filepath = Path('C:\\Users\\David Chaniott\\Documents\\Nashville Software School\\capstone\\data\\test.csv')\n",
    "# # filepath.parent.mkdir(parents=True, exist_ok=True)  \n",
    "# # tx_centers2009.to_csv(filepath)\n",
    "\n",
    "# # This worked\n",
    "# compression_opts = dict(method='zip',\n",
    "#                         archive_name='out.csv')  \n",
    "# tx_centers2009.to_csv('out.zip', index=False,\n",
    "#           compression=compression_opts)"
   ]
  },
  {
   "cell_type": "code",
   "execution_count": 194,
   "metadata": {},
   "outputs": [
    {
     "name": "stdout",
     "output_type": "stream",
     "text": [
      "254\n",
      "39\n",
      "58\n",
      "<class 'pandas.core.frame.DataFrame'>\n",
      "RangeIndex: 809 entries, 0 to 808\n",
      "Data columns (total 31 columns):\n",
      " #   Column                                                 Non-Null Count  Dtype  \n",
      "---  ------                                                 --------------  -----  \n",
      " 0   OPO Name                                               809 non-null    object \n",
      " 1   OTC Name                                               809 non-null    object \n",
      " 2   OTC Service List                                       809 non-null    object \n",
      " 3   OPO Provider #                                         809 non-null    object \n",
      " 4   Address                                                809 non-null    object \n",
      " 5   City                                                   809 non-null    object \n",
      " 6   State                                                  809 non-null    object \n",
      " 7   ZIP                                                    809 non-null    object \n",
      " 8   OPO Telephone #                                        809 non-null    object \n",
      " 9   OTC Code                                               809 non-null    object \n",
      " 10  Address.1                                              809 non-null    object \n",
      " 11  City.1                                                 809 non-null    object \n",
      " 12  ZIP.1                                                  809 non-null    int64  \n",
      " 13  Organ Transplantation Center Service Type Description  809 non-null    object \n",
      " 14  Common Region Code                                     809 non-null    int64  \n",
      " 15  Common Region Name                                     809 non-null    object \n",
      " 16  Common State Name                                      809 non-null    object \n",
      " 17  Common State Abbreviation                              809 non-null    object \n",
      " 18  Common State FIPS Code                                 809 non-null    int64  \n",
      " 19  Common State County FIPS Code                          809 non-null    int64  \n",
      " 20  Common County Name                                     809 non-null    object \n",
      " 21  Common City Name with State Abbreviation               809 non-null    object \n",
      " 22  Common Congressional District Name                     809 non-null    object \n",
      " 23  Common Congress Number Text                            809 non-null    int64  \n",
      " 24  Common State FIPS Code Congressional District Number   809 non-null    int64  \n",
      " 25  Common Postal Code                                     809 non-null    int64  \n",
      " 26  Longitude                                              809 non-null    float64\n",
      " 27  Latitude                                               809 non-null    float64\n",
      " 28  Data Warehouse Record Create Date                      809 non-null    object \n",
      " 29  Data Warehouse Record Create Date Text                 809 non-null    object \n",
      " 30  Unnamed: 30                                            0 non-null      float64\n",
      "dtypes: float64(3), int64(7), object(21)\n",
      "memory usage: 196.1+ KB\n",
      "None\n"
     ]
    }
   ],
   "source": [
    "# This dataset was created 5-27-2021 by HRSA\n",
    "# tx_center Count - 254\n",
    "print(full_data_2021['OTC Name'].nunique())\n",
    "# State Count - 39\n",
    "print(full_data_2021.State.nunique())\n",
    "# Cities Count - 58\n",
    "print(full_data_2021.City.nunique())\n",
    "\n",
    "print(full_data_2021.info())"
   ]
  },
  {
   "cell_type": "code",
   "execution_count": 195,
   "metadata": {},
   "outputs": [
    {
     "name": "stdout",
     "output_type": "stream",
     "text": [
      "327\n",
      "48\n",
      "169\n",
      "<class 'pandas.core.frame.DataFrame'>\n",
      "RangeIndex: 333 entries, 0 to 332\n",
      "Data columns (total 4 columns):\n",
      " #   Column    Non-Null Count  Dtype \n",
      "---  ------    --------------  ----- \n",
      " 0   OTC Name  333 non-null    object\n",
      " 1   City      333 non-null    object\n",
      " 2   State     333 non-null    object\n",
      " 3   OPO Name  333 non-null    object\n",
      "dtypes: object(4)\n",
      "memory usage: 10.5+ KB\n",
      "None\n"
     ]
    }
   ],
   "source": [
    "# This dataset was created 5-2009 by SRTR\n",
    "# tx_center Count - 327\n",
    "print(tx_centers2009['OTC Name'].nunique())\n",
    "# State Count - 48\n",
    "print(tx_centers2009.State.nunique())\n",
    "# Cities Count - 169\n",
    "print(tx_centers2009.City.nunique())\n",
    "\n",
    "print(tx_centers2009.info())"
   ]
  },
  {
   "cell_type": "code",
   "execution_count": 196,
   "metadata": {},
   "outputs": [],
   "source": [
    "# Questions:\n",
    "# Do surgeons work at different TX Centers?\n",
    "# Get Footprints of the OPOs\n",
    "\n",
    "# Match up the 2009 and 2021 lists\n",
    "# Get the 2021 list noted with NEW hospitals.\n",
    "# Get the 2009 list noted with CLOSURES\n",
    "# Get the 2009 list coded with lat.long"
   ]
  },
  {
   "cell_type": "code",
   "execution_count": 197,
   "metadata": {},
   "outputs": [],
   "source": [
    "# Merge for the 2009 data.\n",
    "tx_centers2009\n",
    "merge_2009 = tx_centers2009\n",
    "\n",
    "# Make a 2021 list and remove duplicates.\n",
    "tx_centers2021 = full_data_2021[['OTC Name', 'City', 'State', 'OPO Name', 'OTC Code', 'OPO Provider #']]\n",
    "tx_centers2021 = tx_centers2021.drop_duplicates()\n",
    "merge_2021 = tx_centers2021\n",
    "\n"
   ]
  },
  {
   "cell_type": "code",
   "execution_count": 198,
   "metadata": {},
   "outputs": [],
   "source": [
    "# Add Columns ['Year'], ['OTC Code'], ['OPO Provider #']\n",
    "# Later: address, lat, long region codes\n",
    "\n",
    "merge_2009['OTC Code'] = 'pending'\n",
    "merge_2009['OPO Provider #'] = 'pending'\n",
    "merge_2009['Year'] = 2009\n",
    "merge_2021['Year'] = 2021\n",
    "#merge_2009['Year'] = 2009\n",
    "#merge_2009.loc[:, merge_2009['Year']] = 2009\n"
   ]
  },
  {
   "cell_type": "code",
   "execution_count": 199,
   "metadata": {},
   "outputs": [],
   "source": [
    "tablelist = [merge_2009, merge_2021]\n",
    "tx_centersall = pd.concat(tablelist)\n",
    "tx_centersall = tx_centersall.drop_duplicates()\n",
    "\n",
    "compression_opts = dict(method='zip',\n",
    "                         archive_name='out.csv')  \n",
    "tx_centersall.to_csv('out.zip', index=False,\n",
    "           compression=compression_opts)"
   ]
  },
  {
   "cell_type": "code",
   "execution_count": 200,
   "metadata": {},
   "outputs": [],
   "source": [
    "# #tx_centers2021.groupby('OTC Name')['State']\n",
    "# otc_2021_list = pd.unique(tx_centers2021['OTC Name'])\n",
    "\n",
    "# otc_2021 = []\n",
    "# pd.DataFrame(otc_2021)\n",
    "# otc_2021['OTC Name'] = []\n",
    "# for otc in otc_2021_list :\n",
    "#     i = tx_centers2021.loc[tx_centers2021['OTC Name'] == str(otc)]\n",
    "#     otc_2021['OTC Name'] = i['OTC Name']\n",
    "\n"
   ]
  },
  {
   "cell_type": "code",
   "execution_count": 201,
   "metadata": {},
   "outputs": [],
   "source": [
    "# otc2021 = pd.unique(tx_centers2021['OTC Name'])\n",
    "# otc2021 = pd.DataFrame(otc2021)\n",
    "# otc2009 = tx_centers2009\n",
    "# otc2009 = pd.DataFrame(otc2009)"
   ]
  },
  {
   "cell_type": "code",
   "execution_count": 202,
   "metadata": {},
   "outputs": [
    {
     "name": "stdout",
     "output_type": "stream",
     "text": [
      "402\n",
      "48\n",
      "187\n",
      "114\n",
      "<class 'pandas.core.frame.DataFrame'>\n",
      "Int64Index: 587 entries, 0 to 808\n",
      "Data columns (total 7 columns):\n",
      " #   Column          Non-Null Count  Dtype \n",
      "---  ------          --------------  ----- \n",
      " 0   OTC Name        587 non-null    object\n",
      " 1   City            587 non-null    object\n",
      " 2   State           587 non-null    object\n",
      " 3   OPO Name        587 non-null    object\n",
      " 4   OTC Code        587 non-null    object\n",
      " 5   OPO Provider #  587 non-null    object\n",
      " 6   Year            587 non-null    int64 \n",
      "dtypes: int64(1), object(6)\n",
      "memory usage: 36.7+ KB\n",
      "None\n"
     ]
    }
   ],
   "source": [
    "# All_TX_dirty\n",
    "# tx_center Count - 402\n",
    "print(tx_centersall['OTC Name'].nunique())\n",
    "# State Count - 48\n",
    "print(tx_centersall.State.nunique())\n",
    "# Cities Count - 187\n",
    "print(tx_centersall.City.nunique())\n",
    "# OPOs - 114\n",
    "print(tx_centersall['OPO Name'].nunique())\n",
    "print(tx_centersall.info())"
   ]
  },
  {
   "cell_type": "code",
   "execution_count": 203,
   "metadata": {},
   "outputs": [],
   "source": [
    "# Get OPO Codes and OTC codes from Full Data into tables with unique opos/hopsitals. \n",
    "# Then assign join style\n",
    "\n",
    "opo_2021 = full_data_2021[['OPO Name', 'OPO Provider #']]\n",
    "otc_2021 = full_data_2021[['OTC Name', 'OTC Code']]\n",
    "\n",
    "opo_2021 = opo_2021.drop_duplicates()\n",
    "otc_2021 = otc_2021.drop_duplicates()\n",
    "\n",
    "opo_codes = dict(zip(opo_2021['OPO Name'], opo_2021['OPO Provider #']))\n",
    "otc_codes = dict(zip(otc_2021['OTC Name'], otc_2021['OTC Code']))\n",
    "\n",
    "opo_codes_df = pd.DataFrame.from_dict(opo_codes, orient='index')\n",
    "otc_codes_df = pd.DataFrame.from_dict(otc_codes, orient='index')\n",
    "\n",
    "opo_codes_df = opo_codes_df.reset_index()\n",
    "otc_codes_df = otc_codes_df.reset_index()"
   ]
  },
  {
   "cell_type": "code",
   "execution_count": 204,
   "metadata": {},
   "outputs": [],
   "source": [
    "opo_codes_df = opo_codes_df.rename(columns = {'index':'OPO Name', 0:'OPO Provider #'})\n",
    "otc_codes_df = otc_codes_df.rename(columns = {'index': 'OTC Name', 0: 'OTC Code'})"
   ]
  },
  {
   "cell_type": "code",
   "execution_count": 205,
   "metadata": {},
   "outputs": [],
   "source": [
    "# Monday, coming a different way, reset the merge_2009 set because the 2021 set is complete.\n",
    "\n",
    "merge_2009 = merge_2009.drop(columns=['OPO Provider #', 'OTC Code'])\n"
   ]
  },
  {
   "cell_type": "code",
   "execution_count": 206,
   "metadata": {},
   "outputs": [],
   "source": [
    "\n",
    "#joined = merge_2009.pd.merge(opo_codes_df, how='left', on='OPO Name')\n",
    "merge_2009['OPO Name'] = merge_2009['OPO Name'].str.strip()\n"
   ]
  },
  {
   "cell_type": "code",
   "execution_count": 207,
   "metadata": {},
   "outputs": [],
   "source": [
    "merge_2009['OTC Name'] = merge_2009['OTC Name'].str.strip()"
   ]
  },
  {
   "cell_type": "code",
   "execution_count": 208,
   "metadata": {},
   "outputs": [],
   "source": [
    "merge_2009 = pd.merge(merge_2009, opo_codes_df, how='left', on='OPO Name')"
   ]
  },
  {
   "cell_type": "code",
   "execution_count": 211,
   "metadata": {},
   "outputs": [
    {
     "data": {
      "text/html": [
       "<div>\n",
       "<style scoped>\n",
       "    .dataframe tbody tr th:only-of-type {\n",
       "        vertical-align: middle;\n",
       "    }\n",
       "\n",
       "    .dataframe tbody tr th {\n",
       "        vertical-align: top;\n",
       "    }\n",
       "\n",
       "    .dataframe thead th {\n",
       "        text-align: right;\n",
       "    }\n",
       "</style>\n",
       "<table border=\"1\" class=\"dataframe\">\n",
       "  <thead>\n",
       "    <tr style=\"text-align: right;\">\n",
       "      <th></th>\n",
       "      <th>OTC Name</th>\n",
       "      <th>City</th>\n",
       "      <th>State</th>\n",
       "      <th>OPO Name</th>\n",
       "      <th>Year</th>\n",
       "      <th>OPO Provider #</th>\n",
       "      <th>OTC Code</th>\n",
       "    </tr>\n",
       "  </thead>\n",
       "  <tbody>\n",
       "    <tr>\n",
       "      <th>0</th>\n",
       "      <td>Baptist Medical Center Princeton</td>\n",
       "      <td>Birmingham</td>\n",
       "      <td>AL</td>\n",
       "      <td>Alabama Organ Center</td>\n",
       "      <td>2009</td>\n",
       "      <td>01P001</td>\n",
       "      <td>NaN</td>\n",
       "    </tr>\n",
       "    <tr>\n",
       "      <th>1</th>\n",
       "      <td>Children's Hospital of Alabama</td>\n",
       "      <td>Birmingham</td>\n",
       "      <td>AL</td>\n",
       "      <td>Alabama Organ Center</td>\n",
       "      <td>2009</td>\n",
       "      <td>01P001</td>\n",
       "      <td>NaN</td>\n",
       "    </tr>\n",
       "    <tr>\n",
       "      <th>2</th>\n",
       "      <td>University of Alabama Hospital</td>\n",
       "      <td>Birmingham</td>\n",
       "      <td>AL</td>\n",
       "      <td>Alabama Organ Center</td>\n",
       "      <td>2009</td>\n",
       "      <td>01P001</td>\n",
       "      <td>ALUA</td>\n",
       "    </tr>\n",
       "    <tr>\n",
       "      <th>3</th>\n",
       "      <td>University of South Alabama Medical Center</td>\n",
       "      <td>Mobile</td>\n",
       "      <td>AL</td>\n",
       "      <td>Alabama Organ Center</td>\n",
       "      <td>2009</td>\n",
       "      <td>01P001</td>\n",
       "      <td>NaN</td>\n",
       "    </tr>\n",
       "    <tr>\n",
       "      <th>4</th>\n",
       "      <td>Arkansas Children's Hospital</td>\n",
       "      <td>Little Rock</td>\n",
       "      <td>AR</td>\n",
       "      <td>Arkansas Regional Organ Recovery Agency</td>\n",
       "      <td>2009</td>\n",
       "      <td>04P001</td>\n",
       "      <td>ARCH</td>\n",
       "    </tr>\n",
       "    <tr>\n",
       "      <th>...</th>\n",
       "      <td>...</td>\n",
       "      <td>...</td>\n",
       "      <td>...</td>\n",
       "      <td>...</td>\n",
       "      <td>...</td>\n",
       "      <td>...</td>\n",
       "      <td>...</td>\n",
       "    </tr>\n",
       "    <tr>\n",
       "      <th>328</th>\n",
       "      <td>Froedtert Memorial Lutheran Hospital</td>\n",
       "      <td>Milwaukee</td>\n",
       "      <td>WI</td>\n",
       "      <td>Wisconsin Donor Network</td>\n",
       "      <td>2009</td>\n",
       "      <td>52P002</td>\n",
       "      <td>WISE</td>\n",
       "    </tr>\n",
       "    <tr>\n",
       "      <th>329</th>\n",
       "      <td>John L Doyne Hosp</td>\n",
       "      <td>Milwaukee</td>\n",
       "      <td>WI</td>\n",
       "      <td>Wisconsin Donor Network</td>\n",
       "      <td>2009</td>\n",
       "      <td>52P002</td>\n",
       "      <td>NaN</td>\n",
       "    </tr>\n",
       "    <tr>\n",
       "      <th>330</th>\n",
       "      <td>Zablocki Veterans Administration Medical Center</td>\n",
       "      <td>Milwaukee</td>\n",
       "      <td>WI</td>\n",
       "      <td>Wisconsin Donor Network</td>\n",
       "      <td>2009</td>\n",
       "      <td>52P002</td>\n",
       "      <td>NaN</td>\n",
       "    </tr>\n",
       "    <tr>\n",
       "      <th>331</th>\n",
       "      <td>Baystate Medical Center</td>\n",
       "      <td>Springfield</td>\n",
       "      <td>MA</td>\n",
       "      <td>LifeChoice Donor Services</td>\n",
       "      <td>2009</td>\n",
       "      <td>07P001</td>\n",
       "      <td>MABS</td>\n",
       "    </tr>\n",
       "    <tr>\n",
       "      <th>332</th>\n",
       "      <td>Hartford Hospital</td>\n",
       "      <td>Hartford</td>\n",
       "      <td>CT</td>\n",
       "      <td>LifeChoice Donor Services</td>\n",
       "      <td>2009</td>\n",
       "      <td>07P001</td>\n",
       "      <td>CTHH</td>\n",
       "    </tr>\n",
       "  </tbody>\n",
       "</table>\n",
       "<p>333 rows × 7 columns</p>\n",
       "</div>"
      ],
      "text/plain": [
       "                                            OTC Name         City State  \\\n",
       "0                   Baptist Medical Center Princeton   Birmingham    AL   \n",
       "1                     Children's Hospital of Alabama   Birmingham    AL   \n",
       "2                     University of Alabama Hospital   Birmingham    AL   \n",
       "3         University of South Alabama Medical Center       Mobile    AL   \n",
       "4                       Arkansas Children's Hospital  Little Rock    AR   \n",
       "..                                               ...          ...   ...   \n",
       "328             Froedtert Memorial Lutheran Hospital    Milwaukee    WI   \n",
       "329                                John L Doyne Hosp    Milwaukee    WI   \n",
       "330  Zablocki Veterans Administration Medical Center    Milwaukee    WI   \n",
       "331                          Baystate Medical Center  Springfield    MA   \n",
       "332                                Hartford Hospital     Hartford    CT   \n",
       "\n",
       "                                    OPO Name  Year OPO Provider # OTC Code  \n",
       "0                       Alabama Organ Center  2009         01P001      NaN  \n",
       "1                       Alabama Organ Center  2009         01P001      NaN  \n",
       "2                       Alabama Organ Center  2009         01P001     ALUA  \n",
       "3                       Alabama Organ Center  2009         01P001      NaN  \n",
       "4    Arkansas Regional Organ Recovery Agency  2009         04P001     ARCH  \n",
       "..                                       ...   ...            ...      ...  \n",
       "328                  Wisconsin Donor Network  2009         52P002     WISE  \n",
       "329                  Wisconsin Donor Network  2009         52P002      NaN  \n",
       "330                  Wisconsin Donor Network  2009         52P002      NaN  \n",
       "331                LifeChoice Donor Services  2009         07P001     MABS  \n",
       "332                LifeChoice Donor Services  2009         07P001     CTHH  \n",
       "\n",
       "[333 rows x 7 columns]"
      ]
     },
     "execution_count": 211,
     "metadata": {},
     "output_type": "execute_result"
    }
   ],
   "source": [
    "merge_2009 = pd.merge(merge_2009, otc_codes_df, how='left', on='OTC Name')\n",
    "merge_2009"
   ]
  },
  {
   "cell_type": "code",
   "execution_count": 212,
   "metadata": {},
   "outputs": [],
   "source": [
    "compression_opts = dict(method='zip',\n",
    "                         archive_name='out.csv')  \n",
    "merge_2009.to_csv('out.zip', index=False,\n",
    "           compression=compression_opts)\n"
   ]
  },
  {
   "cell_type": "code",
   "execution_count": 214,
   "metadata": {},
   "outputs": [],
   "source": [
    "compression_opts = dict(method='zip',\n",
    "                         archive_name='out.csv')  \n",
    "otc_codes_df.to_csv('out.zip', index=False,\n",
    "           compression=compression_opts)"
   ]
  },
  {
   "cell_type": "code",
   "execution_count": 215,
   "metadata": {},
   "outputs": [],
   "source": [
    "compression_opts = dict(method='zip',\n",
    "                         archive_name='out.csv')  \n",
    "opo_codes_df.to_csv('out.zip', index=False,\n",
    "           compression=compression_opts)"
   ]
  },
  {
   "cell_type": "code",
   "execution_count": null,
   "metadata": {},
   "outputs": [],
   "source": []
  }
 ],
 "metadata": {
  "interpreter": {
   "hash": "b3ba2566441a7c06988d0923437866b63cedc61552a5af99d1f4fb67d367b25f"
  },
  "kernelspec": {
   "display_name": "Python 3.9.7 ('base')",
   "language": "python",
   "name": "python3"
  },
  "language_info": {
   "codemirror_mode": {
    "name": "ipython",
    "version": 3
   },
   "file_extension": ".py",
   "mimetype": "text/x-python",
   "name": "python",
   "nbconvert_exporter": "python",
   "pygments_lexer": "ipython3",
   "version": "3.9.7"
  },
  "orig_nbformat": 4
 },
 "nbformat": 4,
 "nbformat_minor": 2
}
