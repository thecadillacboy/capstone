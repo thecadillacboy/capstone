{
 "cells": [
  {
   "cell_type": "code",
   "execution_count": 1,
   "metadata": {},
   "outputs": [],
   "source": [
    "import pandas as pd"
   ]
  },
  {
   "cell_type": "code",
   "execution_count": 11,
   "metadata": {},
   "outputs": [],
   "source": [
    "tx_centers = pd.read_csv(r'C:\\Users\\David Chaniott\\Documents\\Nashville Software School\\capstone\\data\\hrsa\\ORG_OTC_FCT_DET.csv')"
   ]
  },
  {
   "cell_type": "code",
   "execution_count": 12,
   "metadata": {},
   "outputs": [
    {
     "name": "stdout",
     "output_type": "stream",
     "text": [
      "809\n",
      "39\n",
      "<class 'pandas.core.frame.DataFrame'>\n",
      "RangeIndex: 809 entries, 0 to 808\n",
      "Data columns (total 31 columns):\n",
      " #   Column                                                 Non-Null Count  Dtype  \n",
      "---  ------                                                 --------------  -----  \n",
      " 0   OPO Name                                               809 non-null    object \n",
      " 1   OTC Name                                               809 non-null    object \n",
      " 2   OTC Service List                                       809 non-null    object \n",
      " 3   OPO Provider #                                         809 non-null    object \n",
      " 4   Address                                                809 non-null    object \n",
      " 5   City                                                   809 non-null    object \n",
      " 6   State                                                  809 non-null    object \n",
      " 7   ZIP                                                    809 non-null    object \n",
      " 8   OPO Telephone #                                        809 non-null    object \n",
      " 9   OTC Code                                               809 non-null    object \n",
      " 10  Address.1                                              809 non-null    object \n",
      " 11  City.1                                                 809 non-null    object \n",
      " 12  ZIP.1                                                  809 non-null    int64  \n",
      " 13  Organ Transplantation Center Service Type Description  809 non-null    object \n",
      " 14  Common Region Code                                     809 non-null    int64  \n",
      " 15  Common Region Name                                     809 non-null    object \n",
      " 16  Common State Name                                      809 non-null    object \n",
      " 17  Common State Abbreviation                              809 non-null    object \n",
      " 18  Common State FIPS Code                                 809 non-null    int64  \n",
      " 19  Common State County FIPS Code                          809 non-null    int64  \n",
      " 20  Common County Name                                     809 non-null    object \n",
      " 21  Common City Name with State Abbreviation               809 non-null    object \n",
      " 22  Common Congressional District Name                     809 non-null    object \n",
      " 23  Common Congress Number Text                            809 non-null    int64  \n",
      " 24  Common State FIPS Code Congressional District Number   809 non-null    int64  \n",
      " 25  Common Postal Code                                     809 non-null    int64  \n",
      " 26  Longitude                                              809 non-null    float64\n",
      " 27  Latitude                                               809 non-null    float64\n",
      " 28  Data Warehouse Record Create Date                      809 non-null    object \n",
      " 29  Data Warehouse Record Create Date Text                 809 non-null    object \n",
      " 30  Unnamed: 30                                            0 non-null      float64\n",
      "dtypes: float64(3), int64(7), object(21)\n",
      "memory usage: 196.1+ KB\n",
      "None\n"
     ]
    }
   ],
   "source": [
    "# tx_center Count - 809\n",
    "print(len(tx_centers))\n",
    "# State Count - 39\n",
    "print(tx_centers.State.nunique())\n",
    "print(tx_centers.info())"
   ]
  },
  {
   "cell_type": "code",
   "execution_count": null,
   "metadata": {},
   "outputs": [],
   "source": []
  }
 ],
 "metadata": {
  "interpreter": {
   "hash": "b3ba2566441a7c06988d0923437866b63cedc61552a5af99d1f4fb67d367b25f"
  },
  "kernelspec": {
   "display_name": "Python 3.9.7 ('base')",
   "language": "python",
   "name": "python3"
  },
  "language_info": {
   "codemirror_mode": {
    "name": "ipython",
    "version": 3
   },
   "file_extension": ".py",
   "mimetype": "text/x-python",
   "name": "python",
   "nbconvert_exporter": "python",
   "pygments_lexer": "ipython3",
   "version": "3.9.7"
  },
  "orig_nbformat": 4
 },
 "nbformat": 4,
 "nbformat_minor": 2
}
