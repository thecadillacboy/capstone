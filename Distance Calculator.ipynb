{
 "cells": [
  {
   "cell_type": "code",
   "execution_count": 1,
   "metadata": {},
   "outputs": [],
   "source": [
    "import pandas as pd\n",
    "import numpy as np\n",
    "import regex\n",
    "\n",
    "counties = pd.read_csv(r'C:\\Users\\David Chaniott\\Documents\\Nashville Software School\\capstone\\data\\county-lat-long-other.csv', converters={'fips': lambda x: str(x)})\n",
    "HRSA_raw = pd.read_csv(r'C:\\Users\\David Chaniott\\Documents\\Nashville Software School\\capstone\\data\\hrsa\\HRSA - 2021 - Cleaned.csv')\n",
    "\n",
    "# Master list of OTC 2021\n",
    "otc_2021 = HRSA_raw[['OTC Name', 'OTC Address', 'OTC City', 'Common State Name', 'Common State Abbreviation', 'OTC ZIP', 'OTC Longitude', 'OTC Latitude', 'OTC Code']]\n",
    "otc_2021 = otc_2021.drop_duplicates().reset_index(drop=True)"
   ]
  },
  {
   "cell_type": "code",
   "execution_count": 2,
   "metadata": {},
   "outputs": [],
   "source": [
    "def haversine_np(lon1, lat1, lon2, lat2):\n",
    "    \"\"\"\n",
    "    Calculate the great circle distance between two points\n",
    "    on the earth (specified in decimal degrees)\n",
    "\n",
    "    All args must be of equal length.    \n",
    "\n",
    "    \"\"\"\n",
    "    lon1, lat1, lon2, lat2 = map(np.radians, [lon1, lat1, lon2, lat2])\n",
    "\n",
    "    dlon = lon2 - lon1\n",
    "    dlat = lat2 - lat1\n",
    "\n",
    "    a = np.sin(dlat/2.0)**2 + np.cos(lat1) * np.cos(lat2) * np.sin(dlon/2.0)**2\n",
    "\n",
    "    c = 2 * np.arcsin(np.sqrt(a))\n",
    "    #km = 6367 * c\n",
    "    mi = 3956 * c\n",
    "    return mi"
   ]
  },
  {
   "cell_type": "code",
   "execution_count": 9,
   "metadata": {},
   "outputs": [],
   "source": [
    "coun = []\n",
    "hosp = []\n",
    "dist = []\n",
    "\n",
    "counties['min_otc_dist'] = ''\n",
    "for i,r in counties.iterrows() :\n",
    "    lon1 = r.pclon10\n",
    "    lat1 = r.pclat10\n",
    "    distance =  1000000\n",
    "    for x,y in otc_2021.iterrows() :\n",
    "        lon2 = y['OTC Longitude']\n",
    "        lat2 = y['OTC Latitude']\n",
    "        temp = counties.min_otc_dist = haversine_np(lon1, lat1, lon2, lat2)\n",
    "        if temp <= distance :\n",
    "            distance = temp\n",
    "            name = y['OTC Name']\n",
    "    coun.append(r['fips'])\n",
    "    hosp.append(name)\n",
    "    dist.append(distance)"
   ]
  },
  {
   "cell_type": "code",
   "execution_count": 17,
   "metadata": {},
   "outputs": [],
   "source": [
    "county_otc_distance = pd.DataFrame(zip(coun,hosp,dist), columns=['fips', 'OTC Name', 'Min Distance'])"
   ]
  }
 ],
 "metadata": {
  "interpreter": {
   "hash": "b3ba2566441a7c06988d0923437866b63cedc61552a5af99d1f4fb67d367b25f"
  },
  "kernelspec": {
   "display_name": "Python 3.9.7 ('base')",
   "language": "python",
   "name": "python3"
  },
  "language_info": {
   "codemirror_mode": {
    "name": "ipython",
    "version": 3
   },
   "file_extension": ".py",
   "mimetype": "text/x-python",
   "name": "python",
   "nbconvert_exporter": "python",
   "pygments_lexer": "ipython3",
   "version": "3.9.7"
  },
  "orig_nbformat": 4
 },
 "nbformat": 4,
 "nbformat_minor": 2
}
