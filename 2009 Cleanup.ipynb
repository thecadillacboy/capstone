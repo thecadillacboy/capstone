{
 "cells": [
  {
   "cell_type": "code",
   "execution_count": 1,
   "metadata": {},
   "outputs": [],
   "source": [
    "import pandas as pd\n",
    "import numpy as np\n",
    "import regex\n",
    "from pathlib import Path\n",
    "\n",
    "HRSA_raw = pd.read_csv(r'C:\\Users\\David Chaniott\\Documents\\Nashville Software School\\capstone\\data\\hrsa\\HRSA - 2021 - Cleaned.csv')\n",
    "srtr_raw = pd.read_csv(r'C:\\Users\\David Chaniott\\Documents\\Nashville Software School\\capstone\\data\\otc-2009-raw.csv')\n"
   ]
  },
  {
   "cell_type": "code",
   "execution_count": 2,
   "metadata": {},
   "outputs": [],
   "source": [
    "# Makes the table columns identical\n",
    "otc_2021 = HRSA_raw[['OTC Name', 'OTC Address', 'OTC City', 'Common State Name', 'Common State Abbreviation', 'OTC ZIP', 'OTC Longitude', 'OTC Latitude', 'OTC Code']]\n",
    "otc_2021 = otc_2021.drop_duplicates().reset_index(drop=True)\n",
    "otc_2021['OTC ZIP'] = otc_2021['OTC ZIP'].astype(object)\n",
    "\n",
    "srtr_raw['OTC Address'] = srtr_raw['OTC Address'].astype(object)\n",
    "srtr_raw['Common State Name'] = srtr_raw['Common State Name'].astype(object)\n",
    "srtr_raw['OTC ZIP'] = srtr_raw['OTC ZIP'].astype(object)"
   ]
  },
  {
   "cell_type": "code",
   "execution_count": 3,
   "metadata": {},
   "outputs": [],
   "source": [
    "srtr_pending = srtr_raw.loc[srtr_raw['OTC Code'].isnull()].reset_index(drop=True)\n",
    "srtr_finished = srtr_raw.loc[srtr_raw['OTC Code'].notnull()].reset_index(drop=True)"
   ]
  },
  {
   "cell_type": "code",
   "execution_count": 4,
   "metadata": {},
   "outputs": [],
   "source": [
    "srtr_pending_manual = pd.read_csv(r'C:\\Users\\David Chaniott\\Documents\\Nashville Software School\\capstone\\data\\srtr_pending_manual.csv')"
   ]
  },
  {
   "cell_type": "code",
   "execution_count": 5,
   "metadata": {},
   "outputs": [],
   "source": [
    "us_hospitals_full = pd.read_csv(r'C:\\Users\\David Chaniott\\Documents\\Nashville Software School\\capstone\\data\\us_hospital_locations.csv')"
   ]
  },
  {
   "cell_type": "code",
   "execution_count": 6,
   "metadata": {},
   "outputs": [],
   "source": [
    "srtr_pending_2 = srtr_pending_manual.loc[srtr_pending_manual['OTC Code'].isnull()].reset_index(drop=True)\n",
    "srtr_finished_2 = srtr_pending_manual.loc[srtr_pending_manual['OTC Code'].notnull()].reset_index(drop=True)"
   ]
  },
  {
   "cell_type": "code",
   "execution_count": 7,
   "metadata": {},
   "outputs": [
    {
     "name": "stderr",
     "output_type": "stream",
     "text": [
      "C:\\Users\\DAVIDC~1\\AppData\\Local\\Temp/ipykernel_6324/1547666933.py:2: SettingWithCopyWarning: \n",
      "A value is trying to be set on a copy of a slice from a DataFrame.\n",
      "Try using .loc[row_indexer,col_indexer] = value instead\n",
      "\n",
      "See the caveats in the documentation: https://pandas.pydata.org/pandas-docs/stable/user_guide/indexing.html#returning-a-view-versus-a-copy\n",
      "  us_hospitals['OTC Code'] = ''\n"
     ]
    }
   ],
   "source": [
    "us_hospitals = us_hospitals_full[['NAME', 'ADDRESS', 'CITY', 'STATE', 'ZIP', 'LONGITUDE', 'LATITUDE']]\n",
    "us_hospitals['OTC Code'] = ''\n",
    "us_hospitals = us_hospitals.rename(columns={'NAME' : 'OTC Name', 'ADDRESS' : 'OTC Address', 'CITY' : 'OTC City', 'STATE' : 'Common State Abbreviation', 'ZIP' : 'OTC ZIP', 'LONGITUDE' : 'OTC Longtitude', 'LATITUDE' : 'OTC Latitude'})\n",
    "us_hospitals['key'] = us_hospitals['OTC Name'] + us_hospitals['OTC City'] + us_hospitals['Common State Abbreviation']"
   ]
  },
  {
   "cell_type": "code",
   "execution_count": 8,
   "metadata": {},
   "outputs": [],
   "source": [
    "srtr_pending_2['OTC Name'] = srtr_pending_2['OTC Name'].str.upper()\n",
    "srtr_pending_2['OTC City'] = srtr_pending_2['OTC City'].str.upper()\n",
    "srtr_pending_2['key'] = srtr_pending_2['OTC Name'] + srtr_pending_2['OTC City'] + srtr_pending_2['Common State Abbreviation']\n"
   ]
  },
  {
   "cell_type": "code",
   "execution_count": 9,
   "metadata": {},
   "outputs": [],
   "source": [
    "srtr_keys = srtr_pending_2[['key']]\n",
    "srtr_3 = srtr_keys.merge(us_hospitals, how='left', on='key')"
   ]
  },
  {
   "cell_type": "code",
   "execution_count": 10,
   "metadata": {},
   "outputs": [],
   "source": [
    "srtr_pending_3 = srtr_3.loc[srtr_3['OTC Name'].isnull()].reset_index(drop=True)\n",
    "srtr_finished_3 = srtr_3.loc[srtr_3['OTC Name'].notnull()].reset_index(drop=True)"
   ]
  },
  {
   "cell_type": "code",
   "execution_count": 11,
   "metadata": {},
   "outputs": [],
   "source": [
    "from fuzzywuzzy import fuzz\n",
    "from fuzzywuzzy import process"
   ]
  },
  {
   "cell_type": "code",
   "execution_count": 12,
   "metadata": {},
   "outputs": [],
   "source": [
    "# Fuzzy Wuzzy Search\n",
    "# match_key = []\n",
    "# match_ratio = []\n",
    "# OTC_Name = []\n",
    "# OTC_Address = []\n",
    "# OTC_City = []\n",
    "# Common_State_Abbreviation = []\n",
    "# OTC_ZIP = []\n",
    "# OTC_Longtitude = []\n",
    "# OTC_Latitude = []\n",
    "# confirmation = []\n",
    "\n",
    "# for i, r in srtr_pending_3.iterrows():\n",
    "#     name1 = r.key\n",
    "#     fuzzy = 0\n",
    "#     original = r['OTC Name']\n",
    "#     for x, y in us_hospitals.iterrows() :\n",
    "#         name2 = y.key\n",
    "#         wuzzy = fuzz.ratio(name1, name2)\n",
    "#         cOTC_Name = y['OTC Name']\n",
    "#         cOTC_Address = y['OTC Address']\n",
    "#         cOTC_City = y['OTC City']\n",
    "#         cCommon_State_Abbreviation = y['Common State Abbreviation']\n",
    "#         cOTC_ZIP = y['OTC ZIP']\n",
    "#         cOTC_Longtitude = y['OTC Longtitude']\n",
    "#         cOTC_Latitude = y['OTC Latitude']\n",
    "#         if wuzzy > fuzzy :\n",
    "#             fuzzy = wuzzy\n",
    "#             match = name2\n",
    "#             vOTC_Name = cOTC_Name\n",
    "#             vOTC_Address = cOTC_Address\n",
    "#             vOTC_City = cOTC_City\n",
    "#             vCommon_State_Abbreviation = cCommon_State_Abbreviation\n",
    "#             vOTC_ZIP = cOTC_ZIP\n",
    "#             vOTC_Longtitude = cOTC_Longtitude\n",
    "#             vOTC_Latitude = cOTC_Latitude\n",
    "#     match_key.append(match)\n",
    "#     match_ratio.append(fuzzy)\n",
    "#     OTC_Name.append(vOTC_Name)\n",
    "#     OTC_Address.append(vOTC_Address)\n",
    "#     OTC_City.append(vOTC_City)\n",
    "#     Common_State_Abbreviation.append(vCommon_State_Abbreviation)\n",
    "#     OTC_ZIP.append(vOTC_ZIP)\n",
    "#     OTC_Longtitude.append(vOTC_Longtitude)\n",
    "#     OTC_Latitude.append(vOTC_Latitude)\n",
    "#     confirmation.append(original)\n"
   ]
  },
  {
   "cell_type": "code",
   "execution_count": 13,
   "metadata": {},
   "outputs": [],
   "source": [
    "# srtr_finished_4 = pd.DataFrame(zip(confirmation, OTC_Name, OTC_Address, OTC_City, Common_State_Abbreviation, OTC_ZIP, OTC_Longtitude, OTC_Latitude, match_key, match_ratio), columns=['confirm', 'OTC Name', 'OTC Address', 'OTC City', 'Common State Abbreviation', 'OTC Zip', 'OTC Longtitude', 'OTC Latitude', 'Match', 'Ratio'])\n",
    "# srtr_finished_4['confirm'] = srtr_pending_3['key']\n",
    "# srtr_finished_4.to_csv(r'../data/bigmess.csv')"
   ]
  },
  {
   "cell_type": "code",
   "execution_count": 14,
   "metadata": {},
   "outputs": [
    {
     "name": "stdout",
     "output_type": "stream",
     "text": [
      "HRSA_raw\t Path\t fuzz\t np\t os\t otc_2021\t pd\t process\t regex\t \n",
      "site\t srtr_3\t srtr_finished\t srtr_finished_2\t srtr_finished_3\t srtr_keys\t srtr_pending\t srtr_pending_2\t srtr_pending_3\t \n",
      "srtr_pending_manual\t srtr_raw\t sys\t us_hospitals\t us_hospitals_full\t \n"
     ]
    }
   ],
   "source": [
    "%who"
   ]
  },
  {
   "cell_type": "code",
   "execution_count": 15,
   "metadata": {},
   "outputs": [],
   "source": [
    "# Merge srtr_finished with OTC_2021 to get the coords.\n",
    "srtr_finished_b = srtr_finished['OTC Code']\n",
    "srtr_finished_b = pd.DataFrame(srtr_finished_b)\n",
    "srtr_finished_1 = srtr_finished_b.merge(otc_2021, how='inner', on='OTC Code')\n"
   ]
  },
  {
   "cell_type": "code",
   "execution_count": 16,
   "metadata": {},
   "outputs": [],
   "source": [
    "# Get this one cleaned up uploaded. Manual Work\n",
    "srtr_finished_4 = pd.read_csv(r'..\\data\\srtr_finished_4.csv')"
   ]
  },
  {
   "cell_type": "code",
   "execution_count": 18,
   "metadata": {},
   "outputs": [
    {
     "name": "stdout",
     "output_type": "stream",
     "text": [
      "<class 'pandas.core.frame.DataFrame'>\n",
      "Int64Index: 190 entries, 0 to 189\n",
      "Data columns (total 9 columns):\n",
      " #   Column                     Non-Null Count  Dtype  \n",
      "---  ------                     --------------  -----  \n",
      " 0   OTC Code                   190 non-null    object \n",
      " 1   OTC Name                   190 non-null    object \n",
      " 2   OTC Address                190 non-null    object \n",
      " 3   OTC City                   190 non-null    object \n",
      " 4   Common State Name          190 non-null    object \n",
      " 5   Common State Abbreviation  190 non-null    object \n",
      " 6   OTC ZIP                    190 non-null    object \n",
      " 7   OTC Longitude              190 non-null    float64\n",
      " 8   OTC Latitude               190 non-null    float64\n",
      "dtypes: float64(2), object(7)\n",
      "memory usage: 14.8+ KB\n"
     ]
    }
   ],
   "source": [
    "srtr_finished_1.info()"
   ]
  },
  {
   "cell_type": "code",
   "execution_count": 19,
   "metadata": {},
   "outputs": [
    {
     "name": "stdout",
     "output_type": "stream",
     "text": [
      "<class 'pandas.core.frame.DataFrame'>\n",
      "RangeIndex: 45 entries, 0 to 44\n",
      "Data columns (total 9 columns):\n",
      " #   Column                     Non-Null Count  Dtype  \n",
      "---  ------                     --------------  -----  \n",
      " 0   OTC Name                   45 non-null     object \n",
      " 1   OTC Address                45 non-null     object \n",
      " 2   OTC City                   45 non-null     object \n",
      " 3   Common State Name          45 non-null     object \n",
      " 4   Common State Abbreviation  45 non-null     object \n",
      " 5   OTC ZIP                    45 non-null     float64\n",
      " 6   OTC Longtitude             45 non-null     float64\n",
      " 7   OTC Latitude               45 non-null     float64\n",
      " 8   OTC Code                   45 non-null     object \n",
      "dtypes: float64(3), object(6)\n",
      "memory usage: 3.3+ KB\n"
     ]
    }
   ],
   "source": [
    "srtr_finished_2.info()"
   ]
  },
  {
   "cell_type": "code",
   "execution_count": 20,
   "metadata": {},
   "outputs": [
    {
     "name": "stdout",
     "output_type": "stream",
     "text": [
      "<class 'pandas.core.frame.DataFrame'>\n",
      "RangeIndex: 21 entries, 0 to 20\n",
      "Data columns (total 9 columns):\n",
      " #   Column                     Non-Null Count  Dtype  \n",
      "---  ------                     --------------  -----  \n",
      " 0   key                        21 non-null     object \n",
      " 1   OTC Name                   21 non-null     object \n",
      " 2   OTC Address                21 non-null     object \n",
      " 3   OTC City                   21 non-null     object \n",
      " 4   Common State Abbreviation  21 non-null     object \n",
      " 5   OTC ZIP                    21 non-null     float64\n",
      " 6   OTC Longtitude             21 non-null     float64\n",
      " 7   OTC Latitude               21 non-null     float64\n",
      " 8   OTC Code                   21 non-null     object \n",
      "dtypes: float64(3), object(6)\n",
      "memory usage: 1.6+ KB\n"
     ]
    }
   ],
   "source": [
    "srtr_finished_3.info()"
   ]
  },
  {
   "cell_type": "code",
   "execution_count": 21,
   "metadata": {},
   "outputs": [
    {
     "name": "stdout",
     "output_type": "stream",
     "text": [
      "<class 'pandas.core.frame.DataFrame'>\n",
      "RangeIndex: 46 entries, 0 to 45\n",
      "Data columns (total 7 columns):\n",
      " #   Column                     Non-Null Count  Dtype  \n",
      "---  ------                     --------------  -----  \n",
      " 0   OTC Name                   46 non-null     object \n",
      " 1   OTC Address                46 non-null     object \n",
      " 2   OTC City                   46 non-null     object \n",
      " 3   Common State Abbreviation  46 non-null     object \n",
      " 4   OTC Zip                    46 non-null     int64  \n",
      " 5   OTC Longtitude             46 non-null     float64\n",
      " 6   OTC Latitude               46 non-null     float64\n",
      "dtypes: float64(2), int64(1), object(4)\n",
      "memory usage: 2.6+ KB\n"
     ]
    }
   ],
   "source": [
    "srtr_finished_4.info()"
   ]
  },
  {
   "cell_type": "code",
   "execution_count": 26,
   "metadata": {},
   "outputs": [],
   "source": [
    "srf1 = srtr_finished_1[['OTC Name', 'OTC Latitude', 'OTC Longitude', 'Common State Abbreviation']]\n",
    "srf2 = srtr_finished_2[['OTC Name', 'OTC Latitude', 'OTC Longtitude', 'Common State Abbreviation']]\n",
    "srf3 = srtr_finished_3[['OTC Name', 'OTC Latitude', 'OTC Longtitude', 'Common State Abbreviation']]\n",
    "srf4 = srtr_finished_3[['OTC Name', 'OTC Latitude', 'OTC Longtitude', 'Common State Abbreviation']]"
   ]
  },
  {
   "cell_type": "code",
   "execution_count": 41,
   "metadata": {},
   "outputs": [],
   "source": [
    "srf2 = srf2.rename(columns = {'OTC Longtitude':'OTC Longitude'})\n",
    "srf3 = srf3.rename(columns = {'OTC Longtitude':'OTC Longitude'})\n",
    "srf4 = srf4.rename(columns = {'OTC Longtitude':'OTC Longitude'})"
   ]
  },
  {
   "cell_type": "code",
   "execution_count": 44,
   "metadata": {},
   "outputs": [
    {
     "data": {
      "text/html": [
       "<div>\n",
       "<style scoped>\n",
       "    .dataframe tbody tr th:only-of-type {\n",
       "        vertical-align: middle;\n",
       "    }\n",
       "\n",
       "    .dataframe tbody tr th {\n",
       "        vertical-align: top;\n",
       "    }\n",
       "\n",
       "    .dataframe thead th {\n",
       "        text-align: right;\n",
       "    }\n",
       "</style>\n",
       "<table border=\"1\" class=\"dataframe\">\n",
       "  <thead>\n",
       "    <tr style=\"text-align: right;\">\n",
       "      <th></th>\n",
       "      <th>OTC Name</th>\n",
       "      <th>OTC Latitude</th>\n",
       "      <th>OTC Longitude</th>\n",
       "    </tr>\n",
       "  </thead>\n",
       "  <tbody>\n",
       "    <tr>\n",
       "      <th>0</th>\n",
       "      <td>Children's of Alabama</td>\n",
       "      <td>33.503520</td>\n",
       "      <td>-86.804823</td>\n",
       "    </tr>\n",
       "    <tr>\n",
       "      <th>1</th>\n",
       "      <td>University of Alabama Hospital</td>\n",
       "      <td>33.483930</td>\n",
       "      <td>-86.814637</td>\n",
       "    </tr>\n",
       "    <tr>\n",
       "      <th>2</th>\n",
       "      <td>Arkansas Children's Hospital</td>\n",
       "      <td>34.743459</td>\n",
       "      <td>-92.291527</td>\n",
       "    </tr>\n",
       "    <tr>\n",
       "      <th>3</th>\n",
       "      <td>Baptist Medical Center</td>\n",
       "      <td>34.744983</td>\n",
       "      <td>-92.342479</td>\n",
       "    </tr>\n",
       "    <tr>\n",
       "      <th>4</th>\n",
       "      <td>UAMS Medical Center</td>\n",
       "      <td>34.751489</td>\n",
       "      <td>-92.320745</td>\n",
       "    </tr>\n",
       "    <tr>\n",
       "      <th>...</th>\n",
       "      <td>...</td>\n",
       "      <td>...</td>\n",
       "      <td>...</td>\n",
       "    </tr>\n",
       "    <tr>\n",
       "      <th>185</th>\n",
       "      <td>Aurora St. Luke's Medical Center</td>\n",
       "      <td>42.988589</td>\n",
       "      <td>-87.949431</td>\n",
       "    </tr>\n",
       "    <tr>\n",
       "      <th>186</th>\n",
       "      <td>Children's Hospital of Wisconsin</td>\n",
       "      <td>43.038489</td>\n",
       "      <td>-88.024801</td>\n",
       "    </tr>\n",
       "    <tr>\n",
       "      <th>187</th>\n",
       "      <td>Froedtert Memorial Lutheran Hospital</td>\n",
       "      <td>43.038363</td>\n",
       "      <td>-88.028694</td>\n",
       "    </tr>\n",
       "    <tr>\n",
       "      <th>188</th>\n",
       "      <td>University of Wisconsin Hospital and Clinics</td>\n",
       "      <td>43.075998</td>\n",
       "      <td>-89.429091</td>\n",
       "    </tr>\n",
       "    <tr>\n",
       "      <th>189</th>\n",
       "      <td>Charleston Area Medical Center</td>\n",
       "      <td>38.347152</td>\n",
       "      <td>-81.626170</td>\n",
       "    </tr>\n",
       "  </tbody>\n",
       "</table>\n",
       "<p>190 rows × 3 columns</p>\n",
       "</div>"
      ],
      "text/plain": [
       "                                         OTC Name  OTC Latitude  OTC Longitude\n",
       "0                           Children's of Alabama     33.503520     -86.804823\n",
       "1                  University of Alabama Hospital     33.483930     -86.814637\n",
       "2                    Arkansas Children's Hospital     34.743459     -92.291527\n",
       "3                          Baptist Medical Center     34.744983     -92.342479\n",
       "4                             UAMS Medical Center     34.751489     -92.320745\n",
       "..                                            ...           ...            ...\n",
       "185              Aurora St. Luke's Medical Center     42.988589     -87.949431\n",
       "186              Children's Hospital of Wisconsin     43.038489     -88.024801\n",
       "187          Froedtert Memorial Lutheran Hospital     43.038363     -88.028694\n",
       "188  University of Wisconsin Hospital and Clinics     43.075998     -89.429091\n",
       "189                Charleston Area Medical Center     38.347152     -81.626170\n",
       "\n",
       "[190 rows x 3 columns]"
      ]
     },
     "execution_count": 44,
     "metadata": {},
     "output_type": "execute_result"
    }
   ],
   "source": [
    "srf1"
   ]
  },
  {
   "cell_type": "code",
   "execution_count": 52,
   "metadata": {},
   "outputs": [],
   "source": [
    "final_group_list = [srf1, srf2, srf3, srf4]\n",
    "FUCKINGFINALLY = pd.concat(final_group_list)\n",
    "FUCKINGFINALLY = pd.DataFrame(FUCKINGFINALLY).reset_index(drop=True)\n",
    "FUCKINGFINALLY.to_csv(r'..\\data\\otc_2009_FD.csv')\n"
   ]
  }
 ],
 "metadata": {
  "interpreter": {
   "hash": "b3ba2566441a7c06988d0923437866b63cedc61552a5af99d1f4fb67d367b25f"
  },
  "kernelspec": {
   "display_name": "Python 3.9.7 ('base')",
   "language": "python",
   "name": "python3"
  },
  "language_info": {
   "codemirror_mode": {
    "name": "ipython",
    "version": 3
   },
   "file_extension": ".py",
   "mimetype": "text/x-python",
   "name": "python",
   "nbconvert_exporter": "python",
   "pygments_lexer": "ipython3",
   "version": "3.9.7"
  },
  "orig_nbformat": 4
 },
 "nbformat": 4,
 "nbformat_minor": 2
}
