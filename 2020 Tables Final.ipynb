{
 "cells": [
  {
   "cell_type": "code",
   "execution_count": 1,
   "metadata": {},
   "outputs": [],
   "source": [
    "import pandas as pd\n",
    "import numpy as np\n",
    "import regex\n",
    "from pathlib import Path\n",
    "\n",
    "HRSA_raw = pd.read_csv(r'C:\\Users\\David Chaniott\\Documents\\Nashville Software School\\capstone\\data\\hrsa\\HRSA - 2021 - Cleaned.csv')\n",
    "\n",
    "file_name = 'rename'\n",
    "filepath = r'..\\cpst_tables\\tbl-' + file_name + '.csv'"
   ]
  },
  {
   "cell_type": "code",
   "execution_count": 9,
   "metadata": {},
   "outputs": [],
   "source": [
    "# Master list of OTC 2021\n",
    "otc_2021 = HRSA_raw[['OTC Name', 'OTC Address', 'OTC City', 'Common State Name', 'Common State Abbreviation', 'OTC ZIP', 'OTC Longitude', 'OTC Latitude', 'OTC Code']]\n",
    "otc_2021 = otc_2021.drop_duplicates().reset_index(drop=True)\n",
    "file_name = 'otc_2021_final'\n",
    "filepath = r'..\\cpst_tables\\tbl-' + file_name + '.csv'\n",
    "otc_2021.to_csv(filepath, index=False)\n"
   ]
  },
  {
   "cell_type": "code",
   "execution_count": null,
   "metadata": {},
   "outputs": [],
   "source": [
    "\n",
    "#OPO master list\n",
    "opo = HRSA_raw[['OPO Name', 'OPO Address', 'OPO City', 'OPO State', 'OPO ZIP', 'OPO Telephone #', 'OPO Provider #']]\n",
    "opo = opo.drop_duplicates().reset_index(drop=True)\n",
    "file_name = 'opo_master_list'\n",
    "opo.to_csv(filepath, index=False)\n",
    "\n",
    "# Organs transplanted from each OTC\n",
    "otc_service = HRSA_raw[['OTC Code', 'OTC Service List', 'Organ Transplantation Center Service Type Description']]\n",
    "\n",
    "# Regions Lists\n",
    "regions = HRSA_raw[['Common Region Name', 'Common State Name', 'Common Region Code', 'OPO Provider #', 'OTC Code']]\n",
    "regions = regions.drop_duplicates().reset_index(drop=True)\n",
    "\n",
    "opo_regions = regions[['Common Region Code', 'OPO Provider #']]\n",
    "opo_regions = opo_regions.drop_duplicates().reset_index(drop=True)\n",
    "\n",
    "otc_regions = regions[['Common Region Code', 'OTC Code']]\n",
    "otc_regions = otc_regions.drop_duplicates().reset_index(drop=True)\n",
    "\n",
    "regions = regions.drop(columns=['OPO Provider #', 'OTC Code'])\n",
    "regions = regions.drop_duplicates().reset_index(drop=True)\n",
    "\n",
    "# OPO key = OPO ZIP\n",
    "# OTC key = OTC ZIP\n",
    "hrsa_census_keys = HRSA_raw[['Common State FIPS Code', 'Common State County FIPS Code', 'Common County Name', 'Common City Name with State Abbreviation', 'Common Congressional District Name', 'Common State FIPS Code Congressional District Number', 'Common Postal Code']]\n",
    "hrsa_census_keys = hrsa_census_keys.drop_duplicates()"
   ]
  },
  {
   "cell_type": "code",
   "execution_count": 6,
   "metadata": {},
   "outputs": [],
   "source": [
    "\n"
   ]
  },
  {
   "cell_type": "code",
   "execution_count": null,
   "metadata": {},
   "outputs": [],
   "source": [
    ".to_csv(filepath, index=False)"
   ]
  }
 ],
 "metadata": {
  "interpreter": {
   "hash": "b3ba2566441a7c06988d0923437866b63cedc61552a5af99d1f4fb67d367b25f"
  },
  "kernelspec": {
   "display_name": "Python 3.9.7 ('base')",
   "language": "python",
   "name": "python3"
  },
  "language_info": {
   "codemirror_mode": {
    "name": "ipython",
    "version": 3
   },
   "file_extension": ".py",
   "mimetype": "text/x-python",
   "name": "python",
   "nbconvert_exporter": "python",
   "pygments_lexer": "ipython3",
   "version": "3.9.7"
  },
  "orig_nbformat": 4
 },
 "nbformat": 4,
 "nbformat_minor": 2
}
