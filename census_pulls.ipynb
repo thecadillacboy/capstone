{
 "cells": [
  {
   "cell_type": "code",
   "execution_count": 1,
   "metadata": {},
   "outputs": [],
   "source": [
    "import pandas as pd\n",
    "import sqlite3 as sql\n",
    "import seaborn as sns\n",
    "import matplotlib.pyplot as plt\n",
    "from pathlib import Path\n",
    "import requests\n",
    "from IPython.display import Image\n",
    "import config\n"
   ]
  },
  {
   "cell_type": "code",
   "execution_count": 5,
   "metadata": {},
   "outputs": [],
   "source": [
    "# get_data makes a csv of multiple api queries.\n",
    "# It prints the file name, the endpoint, and response to confirm it worked.\n",
    "\n",
    "def get_data(query) :\n",
    "    for t in query :\n",
    "        api = t['api']\n",
    "        filepath = str(t['name'])\n",
    "        endpoint = str(api)\n",
    "        response = requests.get(endpoint)\n",
    "        print(t['name'], endpoint, response)\n",
    "        res = response.json()\n",
    "        t['name'] = res\n",
    "        t['name'] = pd.DataFrame(t['name'])\n",
    "        # Add code to save as .CSV\n",
    "        t['name'].to_csv(filepath)\n",
    "    return()"
   ]
  },
  {
   "cell_type": "code",
   "execution_count": 27,
   "metadata": {},
   "outputs": [],
   "source": [
    "census_api_key = '&key=' + config.census_api_key\n",
    "\n",
    "#Redistricting PL 94-171\n",
    "# Variables - https://api.census.gov/data/2020/dec/pl/variables.html\n",
    "redistricting_2020 = 'http://api.census.gov/data/2020/dec/pl'\n",
    "\n",
    "rc_county_2020 = '?get=P1_001N,P1_002N,P1_003N,P1_004N,P1_005N,P1_006N,P1_007N,P1_008N,P1_009N&for=COUNTY:*'\n"
   ]
  },
  {
   "cell_type": "code",
   "execution_count": 21,
   "metadata": {},
   "outputs": [],
   "source": [
    "race_county_2020 = redistricting_2020 + rc_county_2020 + census_api_key\n"
   ]
  },
  {
   "cell_type": "code",
   "execution_count": 29,
   "metadata": {},
   "outputs": [],
   "source": [
    "rc_county_2010 = 'http://api.census.gov/data/2010/dec/sf1?get=H006001,H006002,H006003,H006004,H006005,H006006,H006007,H006008&for=COUNTY:*&key=f1004d05c6a206e12b19f145e295617b32c21f53'"
   ]
  },
  {
   "cell_type": "code",
   "execution_count": 42,
   "metadata": {},
   "outputs": [],
   "source": [
    "county_fips = 'http://api.census.gov/data/2020/dec/pl?get=NAME,STATE&for=COUNTY:*&key=f1004d05c6a206e12b19f145e295617b32c21f53'"
   ]
  },
  {
   "cell_type": "code",
   "execution_count": 43,
   "metadata": {},
   "outputs": [
    {
     "name": "stdout",
     "output_type": "stream",
     "text": [
      "<Response [200]>\n"
     ]
    }
   ],
   "source": [
    "table_maker = county_fips\n",
    "file_name = 'county_fips'\n",
    "\n",
    "filepath = r'..\\cpst_tables\\tbl-' + file_name + '.csv'\n",
    "\n",
    "response = requests.get(table_maker)\n",
    "print(response)\n",
    "res = response.json()\n",
    "res = pd.DataFrame(res)\n",
    "res.to_csv(filepath)"
   ]
  },
  {
   "cell_type": "code",
   "execution_count": null,
   "metadata": {},
   "outputs": [],
   "source": []
  },
  {
   "cell_type": "code",
   "execution_count": null,
   "metadata": {},
   "outputs": [],
   "source": []
  }
 ],
 "metadata": {
  "interpreter": {
   "hash": "b3ba2566441a7c06988d0923437866b63cedc61552a5af99d1f4fb67d367b25f"
  },
  "kernelspec": {
   "display_name": "Python 3.9.7 ('base')",
   "language": "python",
   "name": "python3"
  },
  "language_info": {
   "codemirror_mode": {
    "name": "ipython",
    "version": 3
   },
   "file_extension": ".py",
   "mimetype": "text/x-python",
   "name": "python",
   "nbconvert_exporter": "python",
   "pygments_lexer": "ipython3",
   "version": "3.9.7"
  },
  "orig_nbformat": 4
 },
 "nbformat": 4,
 "nbformat_minor": 2
}
