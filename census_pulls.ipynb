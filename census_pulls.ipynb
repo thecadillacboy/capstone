{
 "cells": [
  {
   "cell_type": "code",
   "execution_count": 1,
   "metadata": {},
   "outputs": [],
   "source": [
    "import pandas as pd\n",
    "import sqlite3 as sql\n",
    "import seaborn as sns\n",
    "import matplotlib.pyplot as plt\n",
    "from pathlib import Path\n",
    "import requests\n",
    "from IPython.display import Image\n",
    "import config\n"
   ]
  },
  {
   "cell_type": "code",
   "execution_count": null,
   "metadata": {},
   "outputs": [],
   "source": [
    "# get_data makes a csv of multiple api queries.\n",
    "# It prints the file name, the endpoint, and response to confirm it worked.\n",
    "\n",
    "def get_data(query) :\n",
    "    for t in query :\n",
    "        api = t['api']\n",
    "        filepath = str(t['name'])\n",
    "        endpoint = str(api)\n",
    "        response = requests.get(endpoint)\n",
    "        print(t['name'], endpoint, response)\n",
    "        res = response.json()\n",
    "        t['name'] = res\n",
    "        t['name'] = pd.DataFrame(t['name'])\n",
    "        # Add code to save as .CSV\n",
    "        t['name'].to_csv(filepath)\n",
    "    return()"
   ]
  },
  {
   "cell_type": "code",
   "execution_count": 2,
   "metadata": {},
   "outputs": [],
   "source": [
    "census_api_key = '&key=' + config.census_api_key\n",
    "\n",
    "#Redistricting PL 94-171\n",
    "# Variables - https://api.census.gov/data/2020/dec/pl/variables.html\n",
    "redistricting_2020 = 'http://api.census.gov/data/2020/dec/pl'\n",
    "\n",
    "rc_county_2020 = '?get=P1_001N,P1_002N,P1_003N,P1_004N,P1_005N,P1_006N,P1_007N,P1_008N,P1_009N&for=COUNTY:*'\n"
   ]
  },
  {
   "cell_type": "code",
   "execution_count": 6,
   "metadata": {},
   "outputs": [],
   "source": [
    "race_county_2020 = redistricting_2020 + rc_county_2020 + census_api_key\n"
   ]
  },
  {
   "cell_type": "code",
   "execution_count": 4,
   "metadata": {},
   "outputs": [],
   "source": [
    "rc_county_2010 = 'http://api.census.gov/data/2010/dec/sf1?get=H006001,H006002,H006003,H006004,H006005,H006006,H006007,H006008&for=COUNTY:*&key=f1004d05c6a206e12b19f145e295617b32c21f53'"
   ]
  },
  {
   "cell_type": "code",
   "execution_count": 17,
   "metadata": {},
   "outputs": [],
   "source": [
    "county_fips = 'http://api.census.gov/data/2020/dec/pl?get=NAME&for=COUNTY:*&key=f1004d05c6a206e12b19f145e295617b32c21f53'"
   ]
  },
  {
   "cell_type": "code",
   "execution_count": 7,
   "metadata": {},
   "outputs": [
    {
     "name": "stdout",
     "output_type": "stream",
     "text": [
      "<Response [200]>\n"
     ]
    }
   ],
   "source": [
    "table_maker = race_county_2020\n",
    "file_name = 'county_fips'\n",
    "\n",
    "filepath = r'..\\cpst_tables\\tbl-' + file_name + '.csv'\n",
    "\n",
    "response = requests.get(table_maker)\n",
    "print(response)\n",
    "res = response.json()\n",
    "res = pd.DataFrame(res)\n",
    "res.to_csv(filepath)"
   ]
  },
  {
   "cell_type": "code",
   "execution_count": 88,
   "metadata": {},
   "outputs": [],
   "source": [
    "# FIPS work\n",
    "census_fips = res\n",
    "census_fips = census_fips.rename(columns={0:'name', 1: 'state_code', 2: 'county_code'})\n",
    "census_fips['fips'] = census_fips['state_code'] + census_fips['county_code']\n",
    "census_fips[['county_name','state_name']] = census_fips['name'].str.split(',', expand=True)\n",
    "census_fips = census_fips.drop(columns = {'name'})\n",
    "census_fips.to_csv(filepath)"
   ]
  },
  {
   "cell_type": "code",
   "execution_count": 86,
   "metadata": {},
   "outputs": [
    {
     "data": {
      "text/html": [
       "<div>\n",
       "<style scoped>\n",
       "    .dataframe tbody tr th:only-of-type {\n",
       "        vertical-align: middle;\n",
       "    }\n",
       "\n",
       "    .dataframe tbody tr th {\n",
       "        vertical-align: top;\n",
       "    }\n",
       "\n",
       "    .dataframe thead th {\n",
       "        text-align: right;\n",
       "    }\n",
       "</style>\n",
       "<table border=\"1\" class=\"dataframe\">\n",
       "  <thead>\n",
       "    <tr style=\"text-align: right;\">\n",
       "      <th></th>\n",
       "      <th>state_code</th>\n",
       "      <th>county_code</th>\n",
       "      <th>fips</th>\n",
       "      <th>county_name</th>\n",
       "      <th>state_name</th>\n",
       "    </tr>\n",
       "  </thead>\n",
       "  <tbody>\n",
       "    <tr>\n",
       "      <th>0</th>\n",
       "      <td>state</td>\n",
       "      <td>county</td>\n",
       "      <td>statecounty</td>\n",
       "      <td>NAME</td>\n",
       "      <td>None</td>\n",
       "    </tr>\n",
       "    <tr>\n",
       "      <th>1</th>\n",
       "      <td>19</td>\n",
       "      <td>013</td>\n",
       "      <td>19013</td>\n",
       "      <td>Black Hawk County</td>\n",
       "      <td>Iowa</td>\n",
       "    </tr>\n",
       "    <tr>\n",
       "      <th>2</th>\n",
       "      <td>19</td>\n",
       "      <td>003</td>\n",
       "      <td>19003</td>\n",
       "      <td>Adams County</td>\n",
       "      <td>Iowa</td>\n",
       "    </tr>\n",
       "    <tr>\n",
       "      <th>3</th>\n",
       "      <td>19</td>\n",
       "      <td>007</td>\n",
       "      <td>19007</td>\n",
       "      <td>Appanoose County</td>\n",
       "      <td>Iowa</td>\n",
       "    </tr>\n",
       "    <tr>\n",
       "      <th>4</th>\n",
       "      <td>19</td>\n",
       "      <td>009</td>\n",
       "      <td>19009</td>\n",
       "      <td>Audubon County</td>\n",
       "      <td>Iowa</td>\n",
       "    </tr>\n",
       "    <tr>\n",
       "      <th>...</th>\n",
       "      <td>...</td>\n",
       "      <td>...</td>\n",
       "      <td>...</td>\n",
       "      <td>...</td>\n",
       "      <td>...</td>\n",
       "    </tr>\n",
       "    <tr>\n",
       "      <th>3217</th>\n",
       "      <td>02</td>\n",
       "      <td>105</td>\n",
       "      <td>02105</td>\n",
       "      <td>Hoonah-Angoon Census Area</td>\n",
       "      <td>Alaska</td>\n",
       "    </tr>\n",
       "    <tr>\n",
       "      <th>3218</th>\n",
       "      <td>02</td>\n",
       "      <td>130</td>\n",
       "      <td>02130</td>\n",
       "      <td>Ketchikan Gateway Borough</td>\n",
       "      <td>Alaska</td>\n",
       "    </tr>\n",
       "    <tr>\n",
       "      <th>3219</th>\n",
       "      <td>02</td>\n",
       "      <td>164</td>\n",
       "      <td>02164</td>\n",
       "      <td>Lake and Peninsula Borough</td>\n",
       "      <td>Alaska</td>\n",
       "    </tr>\n",
       "    <tr>\n",
       "      <th>3220</th>\n",
       "      <td>02</td>\n",
       "      <td>185</td>\n",
       "      <td>02185</td>\n",
       "      <td>North Slope Borough</td>\n",
       "      <td>Alaska</td>\n",
       "    </tr>\n",
       "    <tr>\n",
       "      <th>3221</th>\n",
       "      <td>02</td>\n",
       "      <td>198</td>\n",
       "      <td>02198</td>\n",
       "      <td>Prince of Wales-Hyder Census Area</td>\n",
       "      <td>Alaska</td>\n",
       "    </tr>\n",
       "  </tbody>\n",
       "</table>\n",
       "<p>3222 rows × 5 columns</p>\n",
       "</div>"
      ],
      "text/plain": [
       "     state_code county_code         fips                        county_name  \\\n",
       "0         state      county  statecounty                               NAME   \n",
       "1            19         013        19013                  Black Hawk County   \n",
       "2            19         003        19003                       Adams County   \n",
       "3            19         007        19007                   Appanoose County   \n",
       "4            19         009        19009                     Audubon County   \n",
       "...         ...         ...          ...                                ...   \n",
       "3217         02         105        02105          Hoonah-Angoon Census Area   \n",
       "3218         02         130        02130          Ketchikan Gateway Borough   \n",
       "3219         02         164        02164         Lake and Peninsula Borough   \n",
       "3220         02         185        02185                North Slope Borough   \n",
       "3221         02         198        02198  Prince of Wales-Hyder Census Area   \n",
       "\n",
       "     state_name  \n",
       "0          None  \n",
       "1          Iowa  \n",
       "2          Iowa  \n",
       "3          Iowa  \n",
       "4          Iowa  \n",
       "...         ...  \n",
       "3217     Alaska  \n",
       "3218     Alaska  \n",
       "3219     Alaska  \n",
       "3220     Alaska  \n",
       "3221     Alaska  \n",
       "\n",
       "[3222 rows x 5 columns]"
      ]
     },
     "execution_count": 86,
     "metadata": {},
     "output_type": "execute_result"
    }
   ],
   "source": [
    "census_fips"
   ]
  },
  {
   "cell_type": "code",
   "execution_count": null,
   "metadata": {},
   "outputs": [],
   "source": []
  }
 ],
 "metadata": {
  "interpreter": {
   "hash": "b3ba2566441a7c06988d0923437866b63cedc61552a5af99d1f4fb67d367b25f"
  },
  "kernelspec": {
   "display_name": "Python 3.9.7 ('base')",
   "language": "python",
   "name": "python3"
  },
  "language_info": {
   "codemirror_mode": {
    "name": "ipython",
    "version": 3
   },
   "file_extension": ".py",
   "mimetype": "text/x-python",
   "name": "python",
   "nbconvert_exporter": "python",
   "pygments_lexer": "ipython3",
   "version": "3.9.7"
  },
  "orig_nbformat": 4
 },
 "nbformat": 4,
 "nbformat_minor": 2
}
